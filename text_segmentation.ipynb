{
 "cells": [
  {
   "cell_type": "code",
   "execution_count": 1,
   "id": "ad156f9e",
   "metadata": {
    "scrolled": true
   },
   "outputs": [],
   "source": [
    "import matplotlib.pyplot as plt\n",
    "import numpy as np\n",
    "import collections\n",
    "import random\n",
    "from tqdm.auto import tqdm\n",
    "\n",
    "\n",
    "%matplotlib inline\n",
    "import warnings\n",
    "warnings.filterwarnings(\"ignore\")"
   ]
  },
  {
   "cell_type": "markdown",
   "id": "2265dd22",
   "metadata": {},
   "source": [
    "Let's take a look at the data:"
   ]
  },
  {
   "cell_type": "code",
   "execution_count": 2,
   "id": "d9181a44",
   "metadata": {
    "scrolled": true
   },
   "outputs": [
    {
     "name": "stdout",
     "output_type": "stream",
     "text": [
      "TributespouredinfromaroundtheworldThursdaytothelateLabourPartyleaderJohnSmith,whodiedearlierfromamassiveheartattackaged55.InWashington,theUSStateDepartmentissuedastatementregretting\"theuntimelydeath\"oftherapier-tonguedScottishbarristerandparliamentarian.\"Mr.Smith,throughouthisdistinguishedcareeringovernmentandinopposition,leftaprofoundimpressiononthehistoryofhispartyandhiscountry,\"StateDepartmentspokesmanMichaelMcCurrysaid.\"Secretary(ofStateWarren)ChristopherextendshisdeepestcondolencestoMrs.SmithandtotheSmithchildren.\"InBonn,theheadoftheGermanSocialDemocraticParty,RudolfScharping,saidinastatementhewas\"veryaffectedbythesuddendeathofJohnSmith.\"AgoodfriendofGermansocialdemocracyhasleftustooearly.Hewasveryclosetoachievinghislife'sgoalofmakingtheLabourPartythelargestpoliticalforceinBritain\"andwouldbe\"cruellymissed\"inEurope,hesaid.HongKongGovernorChrisPatten,aformerConservativePartychairman,offeredhiscondolencestotheSmithfamilyandsaidhisformerpolitcalopponentwasa\"goodanddecentman,widelyresp\n"
     ]
    }
   ],
   "source": [
    "with open('text_seg/data_small.txt', 'r', encoding='utf-8') as file:\n",
    "    text = file.read()\n",
    "    print(text[:1000])"
   ]
  },
  {
   "cell_type": "code",
   "execution_count": 3,
   "id": "d7344e5f",
   "metadata": {
    "scrolled": true
   },
   "outputs": [
    {
     "data": {
      "text/plain": [
       "652297"
      ]
     },
     "execution_count": 3,
     "metadata": {},
     "output_type": "execute_result"
    }
   ],
   "source": [
    "text_size = len(text)\n",
    "text_size"
   ]
  },
  {
   "cell_type": "code",
   "execution_count": 4,
   "id": "0a6e917c",
   "metadata": {},
   "outputs": [],
   "source": [
    "C = len(set(text))"
   ]
  },
  {
   "cell_type": "code",
   "execution_count": 5,
   "id": "20c3df69",
   "metadata": {},
   "outputs": [
    {
     "name": "stdout",
     "output_type": "stream",
     "text": [
      "Number of unique characters: 74\n"
     ]
    }
   ],
   "source": [
    "print(\"Number of unique characters: {}\".format(C))"
   ]
  },
  {
   "cell_type": "markdown",
   "id": "9b1d8729",
   "metadata": {},
   "source": [
    "- There is 2 𝑛−1 possible segmentations for 𝑛-characters long data.\n",
    "- 𝑛 − 1 latent binary variables $𝑠_𝑖$: denoting whether there is of isn’t a separator between two characters.\n",
    "- Collapsed Gibbs sampling. Sample one variable conditioned by all the others.\n",
    "- Exchangeability: if we reorder the words in the sequence, overall probability is the same.\n",
    "- We can virtually move the changed words at the end of the sequence, compute the overal probablility of the two possibilities and then move the words virtually back.\n"
   ]
  },
  {
   "cell_type": "markdown",
   "id": "fb53741b",
   "metadata": {},
   "source": [
    "if $s_i$ is 1, then there is a separator between characters $c_i$ and $c_{i+1}$"
   ]
  },
  {
   "cell_type": "code",
   "execution_count": 6,
   "id": "93b6384d",
   "metadata": {},
   "outputs": [],
   "source": [
    "# Fixing the random seeds\n",
    "np.random.seed(1234)\n",
    "random.seed(1234)"
   ]
  },
  {
   "cell_type": "code",
   "execution_count": 7,
   "id": "c569a09a",
   "metadata": {},
   "outputs": [],
   "source": [
    "import collections\n",
    "\n",
    "def segmentation(text, text_size, s):\n",
    "    words = []\n",
    "    current_word = \"\"\n",
    "    for idx, character in enumerate(text):\n",
    "        if idx == text_size - 1:\n",
    "            current_word += character\n",
    "            continue\n",
    "        \n",
    "        if s[idx] == 1:\n",
    "            current_word += character\n",
    "            words.append(current_word)\n",
    "            current_word = \"\"\n",
    "        else:\n",
    "            current_word += character\n",
    "    return words\n",
    "\n",
    "def get_word_counts(words):\n",
    "    count = {}\n",
    "    counter = collections.Counter(words)\n",
    "    return counter\n",
    "    for key, value in counter.items():\n",
    "        count[key] = value\n",
    "    return count"
   ]
  },
  {
   "cell_type": "code",
   "execution_count": 8,
   "id": "1e93bfaa",
   "metadata": {},
   "outputs": [],
   "source": [
    "def get_prev_word(text, s, i):\n",
    "    if i == 0:\n",
    "        return text[i]\n",
    "    \n",
    "    start_idx = i\n",
    "    end_idx = i + 1\n",
    "    \n",
    "    # Edge cases\n",
    "    if s[start_idx] == 1 and s[start_idx-1] == 1:\n",
    "        return text[i]\n",
    "    \n",
    "    if s[start_idx] == 1 and s[start_idx-1] == 0:\n",
    "        start_idx -= 1\n",
    "        \n",
    "    while start_idx >= 0:\n",
    "        if s[start_idx] == 1:\n",
    "            start_idx += 1\n",
    "            break\n",
    "        start_idx -= 1\n",
    "    \n",
    "    if start_idx < 0:\n",
    "        start_idx = 0\n",
    "        \n",
    "    return text[start_idx:end_idx]"
   ]
  },
  {
   "cell_type": "code",
   "execution_count": 9,
   "id": "230a51fc",
   "metadata": {},
   "outputs": [],
   "source": [
    "def get_next_word(text, s, i):\n",
    "    word = \"\"\n",
    "    start_idx = i + 1\n",
    "    end_idx = i + 1\n",
    "    while end_idx <= len(text) - 1:\n",
    "        if s[end_idx] == 1:\n",
    "            break\n",
    "        end_idx += 1\n",
    "    \n",
    "    if end_idx == len(text):\n",
    "        end_idx -= 1\n",
    "    \n",
    "    word = text[start_idx:end_idx+1]\n",
    "    return word"
   ]
  },
  {
   "cell_type": "code",
   "execution_count": 10,
   "id": "5c3f013c",
   "metadata": {},
   "outputs": [],
   "source": [
    "def p0(word, p_c):\n",
    "    uniform = 1.0 / float(C)\n",
    "    return uniform**len(word) * p_c**(len(word)-1) * (1 - p_c)"
   ]
  },
  {
   "cell_type": "code",
   "execution_count": 11,
   "id": "249a2a43",
   "metadata": {},
   "outputs": [],
   "source": [
    "def CRPTextSegmentation(text, text_size, iterations, alpha, p_c, p_cont, T = 1, T_decrease = 1):\n",
    "    # randomly initialize text segmentation\n",
    "    s = np.random.randint(low=0, high=2, size=text_size)\n",
    "    \n",
    "    # create the initial segmentation\n",
    "    words = segmentation(text, text_size, s)\n",
    "    count = get_word_counts(words)\n",
    "    \n",
    "    # total number of words\n",
    "    t = sum(count.values())\n",
    "    \n",
    "    processing_progress_bar = tqdm(range(1, text_size - 1), desc=\"Text processing\")\n",
    "    \n",
    "    for iteration in tqdm(range(iterations), desc=\"Iterations\"):\n",
    "        processing_progress_bar.reset()\n",
    "        for i in np.random.permutation(range(0, text_size - 1)):\n",
    "            \n",
    "            prev_word = get_prev_word(text, s, i)\n",
    "            next_word = get_next_word(text, s, i)\n",
    "            \n",
    "            joined = prev_word + next_word\n",
    "            if s[i] == 0:\n",
    "                count[joined] = max(0, count[joined] - 1)\n",
    "                t -= 1\n",
    "            else:\n",
    "                count[prev_word] = max(0, count[prev_word] - 1)\n",
    "                count[next_word] = max(0, count[next_word] - 1)\n",
    "                t -= 2\n",
    "            \n",
    "            p_0 = (alpha * p0(joined, p_c) + count[joined]) / (alpha + t)\n",
    "            p_1 = (alpha * p0(prev_word, p_c) + count[prev_word]) / (alpha + t)\n",
    "            p_1 *= (alpha * p0(next_word, p_c) + count[next_word]) / (alpha + t + 1)\n",
    "            p_1 *= p_cont\n",
    "            \n",
    "            # Annealing\n",
    "            p_0 = p_0 ** (1/T)\n",
    "            p_1 = p_1 ** (1/T)\n",
    "            \n",
    "            # Normalization\n",
    "            suma = p_0 + p_1\n",
    "            p_0 /= suma\n",
    "            p_1 /= suma\n",
    "            \n",
    "            \n",
    "            #print(f\"p0: {p_0}, p1: {p_1}, suma: {suma}, T: {T}\")\n",
    "            \n",
    "            s[i] = np.random.choice([0, 1], p=[p_0, p_1])\n",
    "            \n",
    "            if s[i] == 0:\n",
    "                count[joined] += 1\n",
    "                t += 1\n",
    "            else:\n",
    "                count[prev_word] += 1\n",
    "                count[next_word] += 1\n",
    "                t += 2\n",
    "\n",
    "            processing_progress_bar.update(1)\n",
    "            \n",
    "        # Decreasing the temperature\n",
    "        T = T * T_decrease\n",
    "    \n",
    "        \n",
    "    words_updated = segmentation(text, text_size, s)\n",
    "    final_output = \" \".join(words_updated)\n",
    "    return final_output"
   ]
  },
  {
   "cell_type": "markdown",
   "id": "0982fd21",
   "metadata": {},
   "source": [
    "## Task 3\n",
    "\n",
    "**Download the gold data and the evaluation script. What precision and recall you get?**"
   ]
  },
  {
   "cell_type": "code",
   "execution_count": 12,
   "id": "41c34603",
   "metadata": {},
   "outputs": [],
   "source": [
    "def save_and_evaluate(output, output_file_path):\n",
    "    output_file_path = \"text_seg/\" + output_file_path\n",
    "    with open(output_file_path, 'w', encoding='utf-8') as file:\n",
    "        file.write(output)\n",
    "    !perl text_seg/eval.pl text_seg/data_small_gold.txt $output_file_path\n",
    "    \n",
    "    with open('text_seg/results.txt', 'r') as f_results:\n",
    "        lines = f_results.readlines()\n",
    "        precision = round(float(lines[0]), 4)\n",
    "        recall = round(float(lines[1]), 4)\n",
    "        f1 = round(float(lines[2]), 4)\n",
    "        \n",
    "        return precision, recall, f1"
   ]
  },
  {
   "cell_type": "code",
   "execution_count": 13,
   "id": "f56f8163",
   "metadata": {},
   "outputs": [],
   "source": [
    "def fit(run_name, iterations, alpha, p_c, p_cont, T=1, T_decrease=1):\n",
    "    output = CRPTextSegmentation(text, text_size, iterations, alpha, p_c, p_cont, T, T_decrease)\n",
    "    \n",
    "    output_file_path = \"{}.txt\".format(run_name)\n",
    "    print(\"Evaluating run: {} in file {}\".format(run_name, output_file_path))\n",
    "    precision, recall, f1 = save_and_evaluate(output, output_file_path)\n",
    "    \n",
    "    print(output[:2000])\n",
    "    print()\n",
    "    print()\n",
    "    \n",
    "    return precision, recall, f1"
   ]
  },
  {
   "cell_type": "code",
   "execution_count": 14,
   "id": "35d108f2",
   "metadata": {},
   "outputs": [],
   "source": [
    "# The list that will keep all configurations for different runs\n",
    "# and the evaluation measures calculated for these configs\n",
    "runs = []\n",
    "best_run = None"
   ]
  },
  {
   "cell_type": "code",
   "execution_count": 15,
   "id": "6cba0946",
   "metadata": {},
   "outputs": [
    {
     "data": {
      "application/vnd.jupyter.widget-view+json": {
       "model_id": "33e8a21ff37648d9873c96a3e3a7a37c",
       "version_major": 2,
       "version_minor": 0
      },
      "text/plain": [
       "Text processing:   0%|          | 0/652295 [00:00<?, ?it/s]"
      ]
     },
     "metadata": {},
     "output_type": "display_data"
    },
    {
     "data": {
      "application/vnd.jupyter.widget-view+json": {
       "model_id": "dcf3355f9b214122b53fbce966e55c9b",
       "version_major": 2,
       "version_minor": 0
      },
      "text/plain": [
       "Iterations:   0%|          | 0/100 [00:00<?, ?it/s]"
      ]
     },
     "metadata": {},
     "output_type": "display_data"
    },
    {
     "name": "stdout",
     "output_type": "stream",
     "text": [
      "Evaluating run: basic in file basic.txt\n",
      "WARNING: Different sizes of test and gold files: TEST: 651796, GOLD: 651797\n",
      "P:0.172, R:0.289, F:0.216\n",
      "T ri but esp our edin from a round the world Thursday tothe late Lab ourP arty lead er John S mith ,who died ear li er from am as sive hear tattack aged 55 .In Wash ingto n, theUS St at eDep art ment issue da state ment reg re t ting \"the unti me ly death \" ofthe ra pi er- ton gu ed Sco t t ish bar r i ster and parli a ment arian .\"M r .S mith , th rough out his dis t in gu ish ed ca re er in governm ent and in op positi on , lef t a pro f ound imp re ssion onthe his tory of his part yand his country ,\" State Depa r t ments p okesm an Mich a el McC ur ry said. \" Secre tary ( of State Warr en ) Chri sto pher ext end s his de e p est con do l ence s to M r s.S mith and tothe Smi th c hildr en .\"In B on n, the head ofthe G erman S ocial Demo cratic Part y, Ru do l f Sch ar ping ,said i nasta te me nthewa s\" very aff ected bythe su d den death of J ohnS mith .\"A good frie nd ofG erman s ocial de mocrac y has lef t us to o ear ly .He was very close toa chie ving his life 's go alof mak ingthe Labou r P arty the larg est pol itical force inB ri tain \"and wouldb e \" c ru el ly miss ed \"in Europe ,he said. Hong Ko ng G over nor Chri s Pa tten ,a former Con serv ative Part y ch air man , o ffere d his con do le nces tothe S mith fami ly and said his former pol it cal op ponent wasa \" good and dec ent man ,w idely resp ected .\"In Franc e,Fr en ch Pr esident Franc o is Mi tter ran d sent ame ssag eof con do l ence sto Smit h's wi dow El iz a be th and to Lab our Part ygener al - sec retary Lar ry Whi t t y.Th e head o ftheF rench So ciali stPar t y Mich el Ro car d told Frenc h radi o Thursday hewas \" sho cked and s tunn ed \"by S mith 's death : Ro car d had sp ent Wed nesda y even ing with Smit hand his wife after att end ingthe l aunch in London ofthe Lab ourP arty camp aign forthe E uropean el ection s .\"He was ing reat sha pe last n ight ,and this came a s ash ock to me ,\"R o c ard said .\"J ohnS mith was af erv ant E uropean .He fo ught fora Gr e at Brita in that wou ldhav\n",
      "\n",
      "\n"
     ]
    }
   ],
   "source": [
    "name, iterations, alpha, p_c, p_cont, T, T_decrease = \"basic\", 100, 100, 0.5, 0.99, 1, 1\n",
    "precision, recall, f1 = fit(name, iterations, alpha, p_c, p_cont, T, T_decrease)\n",
    "config_and_results = (name, iterations, alpha, p_c, p_cont,\n",
    "                      T, T_decrease, precision, recall, f1)\n",
    "\n",
    "runs.append(config_and_results)\n",
    "\n",
    "if best_run == None:\n",
    "    best_run = config_and_results\n",
    "else:\n",
    "    if best_run[9] < config_and_results[9]:\n",
    "        best_run = config_and_results"
   ]
  },
  {
   "cell_type": "markdown",
   "id": "979585cc",
   "metadata": {},
   "source": [
    "## Trying out different parameters\n",
    "\n",
    "- ... try to change the parameters to obtain better segmentations\n",
    "- What precision and recall you get?\n",
    "- Try to do annealing and run the model for different temperatures."
   ]
  },
  {
   "cell_type": "code",
   "execution_count": 16,
   "id": "3d29ec19",
   "metadata": {
    "scrolled": false
   },
   "outputs": [
    {
     "name": "stdout",
     "output_type": "stream",
     "text": [
      "Currently working on: run2\n",
      "Configuration:\n",
      "100 100 0.4 0.99 1.0 1.0\n"
     ]
    },
    {
     "data": {
      "application/vnd.jupyter.widget-view+json": {
       "model_id": "52d9ea2f724548af8ed29eba6f58c66d",
       "version_major": 2,
       "version_minor": 0
      },
      "text/plain": [
       "Text processing:   0%|          | 0/652295 [00:00<?, ?it/s]"
      ]
     },
     "metadata": {},
     "output_type": "display_data"
    },
    {
     "data": {
      "application/vnd.jupyter.widget-view+json": {
       "model_id": "425b475feec343d78937970752b666b4",
       "version_major": 2,
       "version_minor": 0
      },
      "text/plain": [
       "Iterations:   0%|          | 0/100 [00:00<?, ?it/s]"
      ]
     },
     "metadata": {},
     "output_type": "display_data"
    },
    {
     "name": "stdout",
     "output_type": "stream",
     "text": [
      "Evaluating run: run2 in file run2.txt\n",
      "WARNING: Different sizes of test and gold files: TEST: 651796, GOLD: 651797\n",
      "P:0.174, R:0.292, F:0.218\n",
      "T ri but esp our edin from aroun d theworl dTh ursday tothe late Labou r Party l eader Joh nSmit h ,who died e arlier from ama s sive hear t att a ckag ed 55 .In W ashing ton ,the USS tateD e part ment issue d a state ment reg re tting \" the un time ly death \" ofthe rap i er- t ong u ed Sco t t ish bar ris ter and parli ament arian .\"M r .S mith , throug hou th is dis tin gui shed care er in govern ment and in op posi tion, lef t a prof ound im press ion on the his tory ofhis part yand hisc ountry ,\" State De part ments pokesma n M ichael Mc C ur ry said .\"S ecre tary ( of State War re n ) Chris tophe r ex t en d s his d eepe st con dol ence sto M r s .S mith and tothe Smith childr e n .\"In Bo n n ,the head ofthe Germ an Soc ial Dem ocratic Party , Ru dol f S char p ing ,said ina state ment hewa s\" very a ffect edbythe su d den death ofJ ohnS mith .\"A good f riend of Germ an soci al d emocra cy has lef t us to o early .He was very close to a chie ving his life 's go al of mak ingthe Labou r Party the l arge st poli tical force in Brita i n \" and would be \" cr u el ly miss ed \" inEu r ope ,he said .Ho ngKo ng G over nor Chris Pa tten ,a form er Con serv ative Party ch air man , offer ed his con dol ence s tothe Smith fa m ily and said hisf ormer poli t cal opp on ent was a\" good and dec ent man , w ide ly resp ected .\"In Fr ance , French Presid ent Fran co is M it terr and sent ame ssa geof con dol ence sto Smith 's wi dow El iz a be t hand to La bour Party ge neral - secre tary Lar ry Whit ty .The head ofthe French So cial ist Party Mich el Ro car d told French radio Thursda y he was \" sho cked and s tunn ed \" by Smith 's death : Ro c ard had spe nt We d nesday even ing with Smith and his wif e after att end ingthe l aunch in London ofthe Labo ur Party campa ign forthe Europe an e lection s .\"H e was ing reat sha pe last night ,and t his came as ash ock to me ,\" Ro car dsai d .\" Joh nSmit h was af erv an t Europe a n .He f ought for a Gre at Brita in that would have\n",
      "\n",
      "\n",
      "Currently working on: run3\n",
      "Configuration:\n",
      "100 100 0.6 0.99 1.0 1.0\n"
     ]
    },
    {
     "data": {
      "application/vnd.jupyter.widget-view+json": {
       "model_id": "fa90310cd5a640beb516ca14c5b5ac04",
       "version_major": 2,
       "version_minor": 0
      },
      "text/plain": [
       "Text processing:   0%|          | 0/652295 [00:00<?, ?it/s]"
      ]
     },
     "metadata": {},
     "output_type": "display_data"
    },
    {
     "data": {
      "application/vnd.jupyter.widget-view+json": {
       "model_id": "a2ed7f1a0e0e47a4aaab386fefdbd1d0",
       "version_major": 2,
       "version_minor": 0
      },
      "text/plain": [
       "Iterations:   0%|          | 0/100 [00:00<?, ?it/s]"
      ]
     },
     "metadata": {},
     "output_type": "display_data"
    },
    {
     "name": "stdout",
     "output_type": "stream",
     "text": [
      "Evaluating run: run3 in file run3.txt\n",
      "WARNING: Different sizes of test and gold files: TEST: 651796, GOLD: 651797\n",
      "P:0.176, R:0.294, F:0.220\n",
      "Tr i but es po ur edin from a round thew orld Thurs day tothe late Labo ur Party leader John Smit h ,who di ed earli er from am ass ive hear t att ack a ged 55 .In W a shington , theUS State Depar tment issu eda state ment re gre tting \"the un time ly death \" ofthe r a pi er - ton gu ed Sco t t ish bar ris ter and p arlia ment ari an .\"M r .S mith , t hrough outh is dis ting u ish ed care er in govern ment and in oppos i tion, left a pro foun d im pres sion onthe his tory of his party and his countr y,\" Stat eDepar t ments pokesman Mich ael McC urry said .\"S ecretary ( of Stat eWarre n ) Chri stop her ext end s his de ep est cond ol ence sto M rs. Smit hand tothe S mith chi ldren .\"I n Bo n n ,the headof the Ger man So cial Demo cratic Party ,R u d ol f S char p ing ,said ina state ment he was\" ver y affec tedby the su dden death ofJ ohnS mith .\"A good fri end of Germ an social demo c racy has left us to o early .Hewas ver y clo se toa chie ving his lif e's go al of mak ingthe Lab our Party the lar gest politic al force in Bri tain \" and wouldbe \" cru el ly miss ed \"in Europe , hesai d .H ong Ko ng G over nor Chri s P atten ,a form er Cons erv ative Party chair man, of fer edhis con do l ence s tothe S mith famil yand said his form er polit cal opp on ent wasa \" good and dec ent man, w ide ly re spect ed .\"I n Fr ance ,Fr ench Pr esident Franc o is Mi tter rand sent am ess ageof cond ol e n ce sto Smi th 's wi dow El iz ab e than dto Labo ur Party genera l - sec re tary Lar ry Whit ty .The headof th eFrench So cialist Party Mich el Rocard told Fren ch rad io T hursda y he was\" sho cked and s t un n ed \"by S mith 's death : Rocard had spen t Wed nesday even ing with Smit hand his wif e after a t tend ingthe laun ch inL ondon ofthe Labo ur Party campa ign for theEu rope an elec tions .\" He was ing reat s hap e last night ,and this came as a sh ock to me ,\" Ro car d said.\" John S mith wasa fer van t European .He fo ught fora G reat Britai n that would havea leading r o\n",
      "\n",
      "\n",
      "Currently working on: run4\n",
      "Configuration:\n",
      "150 100 0.4 0.99 1.0 1.0\n"
     ]
    },
    {
     "data": {
      "application/vnd.jupyter.widget-view+json": {
       "model_id": "64069a644ae540578860607f756fc820",
       "version_major": 2,
       "version_minor": 0
      },
      "text/plain": [
       "Text processing:   0%|          | 0/652295 [00:00<?, ?it/s]"
      ]
     },
     "metadata": {},
     "output_type": "display_data"
    },
    {
     "data": {
      "application/vnd.jupyter.widget-view+json": {
       "model_id": "34cf20a2d9ad45ec9f943cbc3b339a64",
       "version_major": 2,
       "version_minor": 0
      },
      "text/plain": [
       "Iterations:   0%|          | 0/150 [00:00<?, ?it/s]"
      ]
     },
     "metadata": {},
     "output_type": "display_data"
    },
    {
     "name": "stdout",
     "output_type": "stream",
     "text": [
      "Evaluating run: run4 in file run4.txt\n",
      "WARNING: Different sizes of test and gold files: TEST: 651795, GOLD: 651797\n",
      "P:0.179, R:0.299, F:0.224\n",
      "Tr i but es p our ed in from a round the worl d Thursd ay tothe late Labou r Party lead er John Smith ,who di e de arlier from a mass ive hear ta ttack age d 55 .In Wa shington ,the US State De part ment issueda state ment reg re t ting \"the un time ly death \" ofthe rap i er- to n gu ed Scot t ish bar rist er and par liam en taria n .\"M r . Smith , th rough out his dis ting u ish ed c a re er in governm ent and in oppos ition , left a pro found impr ession onthe his toryof his part y and his countr y,\" State Depa rtment spoke sman Mich a el Mc Cu rry said. \" Sec retary ( of State Warre n ) Christ op here xte nd s his de ep e st con dol ences to M r s .S mi th and tothe Smith c hild r e n .\"In B on n ,the head ofthe German So cial D emoc rati c Part y,R u dol f S char ping ,said ina s tateme n the was\" very aff ected bythe su d den death of John Smith .\"A good friend of German s ocial de mocra c y has left u sto o early .He was very close to achi e ving his life 's go al of mak ingthe Labou r Party th elarg est politic al force in Bri tain \" and wouldbe \" cr uel ly missed \"in Europ e , he said. Hong Kong G over nor Chri s Pa tten ,a for mer Con serv ative Party ch air man, off ered his con dol ences to the S mi th famil y and said his form er pol it cal oppo n ent wasa \" good and de cent man , wid ely r es pected .\"In France , F rench Pres ident Franc o is Mi tter r and sent ames s age of con dol ence sto Smith 's w id ow El iza be th and to La bour Party g eneral - sec retary Lar ryW hit t y.The head ofthe Frenc h S oci alist Party Mich el Ro card told F rench radio Thurs day he was\" sho ck edand st un ned \"by Smith 's death : Ro card had sp ent Wedne sday even ing with Smith and his wif e after att end ingthe launc hi nLon d on ofthe Labou r Party ca mpai gn forthe Eu ropean elec tions .\"He was ing reat s hap e last n ight , and this came as ash ock tom e ,\" Ro card said. \" John Smith wasa fer va n t E urope an .He f ought fora G reat Brita inth at would have a lea\n",
      "\n",
      "\n",
      "Currently working on: run5\n",
      "Configuration:\n",
      "150 100 0.5 0.99 1.0 1.0\n"
     ]
    },
    {
     "data": {
      "application/vnd.jupyter.widget-view+json": {
       "model_id": "fcaa00d99b534863b4e47659a607d80e",
       "version_major": 2,
       "version_minor": 0
      },
      "text/plain": [
       "Text processing:   0%|          | 0/652295 [00:00<?, ?it/s]"
      ]
     },
     "metadata": {},
     "output_type": "display_data"
    },
    {
     "data": {
      "application/vnd.jupyter.widget-view+json": {
       "model_id": "fa60b3dec40f4a4fba007bf527d45d7c",
       "version_major": 2,
       "version_minor": 0
      },
      "text/plain": [
       "Iterations:   0%|          | 0/150 [00:00<?, ?it/s]"
      ]
     },
     "metadata": {},
     "output_type": "display_data"
    },
    {
     "name": "stdout",
     "output_type": "stream",
     "text": [
      "Evaluating run: run5 in file run5.txt\n",
      "WARNING: Different sizes of test and gold files: TEST: 651796, GOLD: 651797\n",
      "P:0.178, R:0.296, F:0.222\n",
      "T ri but es p our edin from arou ndthe world T hursday tothe late L abour Par tylea der John S mi th ,who died earli er from am as sive hear t attac k aged 55 .In Washing t on ,the US State De part me ntiss ued a state ment re gr e tti ng\"t he un time ly death \" ofthe r ap ier - ton gu ed Sco t t i sh b arri ster and par lia ment arian .\"M r .S mit h,t h roug h out his dis ting uish ed ca re er ing over n ment and in oppos ition , left a prof ound im pre ssion onthe his tory of his party and his countr y,\" State De part ment spoke sman Mich ael McC ur ry said.\" Secre tary ( o fSta teWa rren ) Chris top her ext end s his de ep est cond ol ence sto M r s .S m i t hand tothe Smith child re n .\"In B on n ,the head ofthe Germ an Soci alDe mocra tic Party ,Ru do lfS char ping ,said ina state men thewa s\"v e ry a ffect edbythe s udd en deathof John Smith .\"A good fri end of Germ an soci al democ racy has left u stoo early .He was very close toachi ev ing his life 's go alof mak ingthe Lab our Party the larg est politi cal force in Brita in \"and w ouldbe \" cru el ly miss e d\"in Europ e, hesaid .H on g Kong G over nor Ch ri sPat te n,af ormer Con serv ative Party chairma n , o ffered his cond ol ence s tothe Smith family and said his former polit cal oppo ne ntwa s a\" good and de cent man , wide ly re spect ed .\"In France , French P resident Franc o is Mi tter r and s ent ame ssa geof cond ol ence sto Smith 's wi dow El iza be than dto L abour Party gener al- se cretar y Lar ry Whi t ty .The head ofthe French So cial ist Party Mich e l Ro car d told French radio T hursday he was \" sh ock ed and st un ned \"by Smith 's death :R oc ard had sp ent Wednes day even ing with Smith and his wif e after atten d ingthe launch in Lond on ofthe L abour Party ca mpaig n forthe Europ e an el ection s .\"H e was ing reat sha pe last night ,and th iscam eas ash ock to me ,\" Ro car d said.\" John Smith wasa fer van t Europ e an .He f ought for aG r e at Brita in tha twoul d have a lead ing rol \n",
      "\n",
      "\n",
      "Currently working on: run6\n",
      "Configuration:\n",
      "150 100 0.6 0.99 1.0 1.0\n"
     ]
    },
    {
     "data": {
      "application/vnd.jupyter.widget-view+json": {
       "model_id": "2a5d63fe81a74a0eb96e02a26c1977cc",
       "version_major": 2,
       "version_minor": 0
      },
      "text/plain": [
       "Text processing:   0%|          | 0/652295 [00:00<?, ?it/s]"
      ]
     },
     "metadata": {},
     "output_type": "display_data"
    },
    {
     "data": {
      "application/vnd.jupyter.widget-view+json": {
       "model_id": "b928680834ef4466be029905a36c248b",
       "version_major": 2,
       "version_minor": 0
      },
      "text/plain": [
       "Iterations:   0%|          | 0/150 [00:00<?, ?it/s]"
      ]
     },
     "metadata": {},
     "output_type": "display_data"
    },
    {
     "name": "stdout",
     "output_type": "stream",
     "text": [
      "Evaluating run: run6 in file run6.txt\n",
      "WARNING: Different sizes of test and gold files: TEST: 651796, GOLD: 651797\n",
      "P:0.179, R:0.300, F:0.224\n",
      "T ri but e spo ur edin from ar ound the world T hursda y tothe late La bour Party leader John Smit h ,who di ed earl ier f roma mass ive hear t a ttack aged 55 .In Wash ington ,the US State Depar tment issue da state ment re gre tting \" the un time ly death \" ofthe ra pi er- to n gue dS cott ish bar r ister and par lia ment ari an .\"M r .S mi th , through out his dis ting uish ed car e er in govern ment and in oppos i tion, left a pro found im pre ssion onthe his tory of his party and his countr y ,\" State Depar tment s pokesma n Mich a el Mc Cu r ry said.\" Se cretary ( of State W ar r en ) Chri stoph er e xten d s his de ep est con dol ence s to M r s.S mi th and tothe Smi th child r en .\"I nB on n ,the head ofthe G erman Soci al De mocr atic Party , Ru dolf Sch ar p ing ,said ina state men the was\" very aff ected bythe s ud den death of JohnS mi th .\"A good fri end ofG erman s ocia l de mocr acy has left u stoo early .He was very close to a chie ving his life 's go alof mak ingthe La bour Party thela rge st politi cal force in Britain \"and w ouldbe \" cru el ly miss ed \" in Europe ,he s aid.H o ngKon g G over nor Chris Pa t ten ,a form e r Con s erva tive Party cha irman , offer edhis con dol ence s tothe Smit h fam il yand said his f ormer polit cal oppo n ent was a\" good and de cent man, wide ly re spect ed.\" In Franc e ,Fr ench President Franc o is Mi tter r and sent ame s s age of c ondol ence sto Smi th 's wi dow E liz ab et hand to La bour Party gener al - se cretary Lar ry Whit t y.The head ofthe French S ociali st Party Mich el Ro car d told French radi o Thurs day he was\" sho cked and st un n ed \" by Smi th 's death :R oc ard had sp ent Wednes day even ing with Smit hand his wif e after at t ending the launc h in London ofthe Labo ur Party camp aign forthe Europea nel ectio n s.\" Hewa s ing reat sha pe last night ,and th i scam eas ash ock to me , \"R oc ard said.\" JohnS mi th wasa f erva nt Europea n .He f ought fora G reat Britain that wo uldhav e a lead \n",
      "\n",
      "\n",
      "Currently working on: run7\n",
      "Configuration:\n",
      "250 100 0.4 0.99 2.5 0.9935\n"
     ]
    },
    {
     "data": {
      "application/vnd.jupyter.widget-view+json": {
       "model_id": "8705b64a323145528b276ee7edb4b973",
       "version_major": 2,
       "version_minor": 0
      },
      "text/plain": [
       "Text processing:   0%|          | 0/652295 [00:00<?, ?it/s]"
      ]
     },
     "metadata": {},
     "output_type": "display_data"
    },
    {
     "data": {
      "application/vnd.jupyter.widget-view+json": {
       "model_id": "bb7d8b244d1949ecb6eecd00f2587064",
       "version_major": 2,
       "version_minor": 0
      },
      "text/plain": [
       "Iterations:   0%|          | 0/250 [00:00<?, ?it/s]"
      ]
     },
     "metadata": {},
     "output_type": "display_data"
    },
    {
     "name": "stdout",
     "output_type": "stream",
     "text": [
      "Evaluating run: run7 in file run7.txt\n",
      "WARNING: Different sizes of test and gold files: TEST: 651795, GOLD: 651797\n",
      "P:0.199, R:0.319, F:0.245\n",
      "Tr i but es p our edin from a round the world Thursday tothe late Labo ur Party leader John S mi th ,who died e arlier from a mass ive hear t attack a ged 55 .In Wash ington , theUS StateD epart ment issu eda state ment re gre t ting \"the un time ly death \" ofthe ra pi er- ton gu ed Sco t ti sh bar ris ter and parli a ment a rian .\"M r . Smith , throug hou this dis tin gu ish ed car e er ing o vernment and in opposit ion, left a pro fo und im pre ssion onthe his to ryof his part y and his countr y,\" StateD epart ment spokes man Mich a elMcCu r ry said .\"S ecret ary ( of State War ren ) Chr ist opher ex tend s his de ep est cond ol ence sto M rs .S mit hand tothe Smith chi ldre n .\"I n Bonn ,the head ofthe Germa n S ocial De mo cra tic Party , Rudo lf Sch ar p ing ,said ina state men the was \" very a ffec tedby the sud den death of John Smith .\"A good frien dof Germ an s ocial democr acy has left us to o early .He was very close toa chi ev inghis life 's go al of m aking the Labo ur Party the large st polit ical force in Britai n \"and would be\" cru el ly miss ed\" in Europe , hesaid. Hong Kong G over nor Chr is Pat ten ,a for mer Con serv ative Party chair man , o ffer ed his cond ol ence sto the Smith fam ily and said his form er polit cal oppo n ent was a\" good and dec ent man , wide ly resp ected .\"I n France , French P resident Franc o is Mi tter r and sent ame s s ageof cond ol ence sto Smith 's w id ow El iz ab eth and to Labo ur Party gener al - s ecret ary Lar ry Whit ty .The headof the French So cialist Party Mich el Ro c ard told French radi o Thursday hewas \" sh ocked and st un ned \"by Smith 's death :R oc ard had sp ent Wedne sday even ing with Smith and his wife after att end ing the la unch in Lo nd on ofthe Labo ur Party camp aign forthe Europe an elect ions .\"He was ing reat sha pe last n ight ,and this came asa sh ock to me ,\" Ro c ard said .\" John S mi th was a fer van t Europe an .He f ought fora G reat Britai n that would have a lead ing ro le inth\n",
      "\n",
      "\n",
      "Currently working on: run8\n",
      "Configuration:\n",
      "250 100 0.5 0.99 2.5 0.9935\n"
     ]
    },
    {
     "data": {
      "application/vnd.jupyter.widget-view+json": {
       "model_id": "a53d848815c44c84a447359fdde9bcd6",
       "version_major": 2,
       "version_minor": 0
      },
      "text/plain": [
       "Text processing:   0%|          | 0/652295 [00:00<?, ?it/s]"
      ]
     },
     "metadata": {},
     "output_type": "display_data"
    },
    {
     "data": {
      "application/vnd.jupyter.widget-view+json": {
       "model_id": "0fd8700c80154dcc9f6561f87608bc98",
       "version_major": 2,
       "version_minor": 0
      },
      "text/plain": [
       "Iterations:   0%|          | 0/250 [00:00<?, ?it/s]"
      ]
     },
     "metadata": {},
     "output_type": "display_data"
    },
    {
     "name": "stdout",
     "output_type": "stream",
     "text": [
      "Evaluating run: run8 in file run8.txt\n",
      "WARNING: Different sizes of test and gold files: TEST: 651796, GOLD: 651797\n",
      "P:0.209, R:0.334, F:0.257\n",
      "Tr i but es p our edin from a round the world Thursday tothe late Labour Party leader John Smith ,who died earli er from a mas sive he art a ttack aged 55 .In Washi ngton , theUS State De part ment issue da state ment re gre t ting \" the un time ly death \" ofthe rap i er- ton gue d Scot t ish bar ris ter and par lia ment arian .\"M r . Smith , t hrough out his dis ting u ished c are er in gover nment and in oppos ition , left a prof ound imp re ssion onthe his tory ofhis party and his countr y,\" State De part ments pokes man Mich ael McC ur ry said .\" Secret ary ( of StateW arre n ) Christ oph er ext end s his de e p e st cond olenc esto M r s. Smith and tothe Smith childr en .\"In Bo n n ,the head ofthe Germa nS ocial Democr at ic Party , Rudo lf Sch ar p ing ,said ina state men the was\" very a ffec ted bythe su d den death of John Smith .\"A good fri end of Germ ans ocial de mocra cy has left us too early .He was very close toa chi ev inghis life 's go al of m aking the Labour Party the l arge st polit ical force in Bri tain \" and w ouldbe \" cru el ly miss ed\" in Europe ,he said.H ong Kong G over nor Chris P at ten ,a f ormer Con serv ative Party ch air man , o ffer edhis cond olenc esto the Smith famil yand said his form er polit cal opp on ent wasa \" good and de cent man , wide lyre spec ted .\"In France , French P resident Franc o is Mi tter rand sent am ess age of cond olenc esto Smith 's wi dow El iz ab et hand to Labour Party g eneral - se cretary Lar ry Whit ty .The head ofthe French Soci alist Party Mich el Ro car d told French radio Thursday he was\" sh ock ed and stu n n ed\" by Smith 's death :R oc ard had sp ent Wedn es day even ing with Smith and his wif e after att end ingthe la unch in London ofthe Labour Party camp a ign forthe Europe an e lection s .\"He was ing re at sha pe last night ,and this came asa sho ck to me ,\" Ro car d s aid.\" John Smith was af erv ant Europe an .He f ought fora G re at Bri tain that would have a lead ing ro le inthe build ing \n",
      "\n",
      "\n",
      "Currently working on: run9\n",
      "Configuration:\n",
      "250 100 0.6 0.99 2.5 0.9935\n"
     ]
    },
    {
     "data": {
      "application/vnd.jupyter.widget-view+json": {
       "model_id": "250c227de9b24f2b86df4288bb8d73ac",
       "version_major": 2,
       "version_minor": 0
      },
      "text/plain": [
       "Text processing:   0%|          | 0/652295 [00:00<?, ?it/s]"
      ]
     },
     "metadata": {},
     "output_type": "display_data"
    },
    {
     "data": {
      "application/vnd.jupyter.widget-view+json": {
       "model_id": "246a1b4068de4b0fab04541b64b12aec",
       "version_major": 2,
       "version_minor": 0
      },
      "text/plain": [
       "Iterations:   0%|          | 0/250 [00:00<?, ?it/s]"
      ]
     },
     "metadata": {},
     "output_type": "display_data"
    },
    {
     "name": "stdout",
     "output_type": "stream",
     "text": [
      "Evaluating run: run9 in file run9.txt\n",
      "WARNING: Different sizes of test and gold files: TEST: 651796, GOLD: 651797\n",
      "P:0.201, R:0.322, F:0.248\n",
      "T ri but esp our edin from a round the worl d Thursda y tothe late La bour Party leader J ohnSmi th ,who di ed e arlie r from am as sive he art attack a ged 55 .In Washin gton ,the US State Depart ment issued a state ment reg re tting \"the un time ly death \" of ther ap ier - t ong ued S co t t ish bar r ister and parli ament arian .\"M r . Smit h, th rough out his dis tin gu ish ed car e er in governm ent and in oppos ition , left a pro found imp re ssion onthe his tory ofhis party and his c ountry ,\" State Depart ment spokes man Mi cha el McC ur ry said.\" Sec retary ( of State War re n ) Christ op here x t end s his d eep est cond ol ence sto M r s. Smit hand tothe Smit h chi ldren .\"In B on n ,the head ofthe Germ an Soci al Democr a tic Party , Ru d olf S ch ar p ing , said ina state ment hewas \" very a ffec t edbythe s ud den death of J ohnSmi th .\"A good fri end ofG erman so cial democ racy has left us too early .He was very close to achi ev ing his lif e 's go alof mak ingthe Labo ur Party the large st p olitica l force in Bri tain \"and wouldb e \" cru ell y miss ed \"in Europe ,he said .H on gKong G over nor Chri s Pat ten ,a form er Con serv ative Party chair man, off ered his cond ol ences tothe Smit h fami ly and said his form er poli t cal oppo n ent was a\" good and de cent man, wide ly re spec ted .\"In Fran ce, French Presiden t Fran co is Mi tter rand sent am ess age of con do le nce sto Smit h 's wi dow El i za be th and to La bour Party gener al - sec retary La rry Whi t ty .The head ofthe French Soci alist Party Mic hel Ro car d told French radi o T hursday hewas \" s ho cked and st un ned \"by Smit h 's death : Ro c ard had sp ent Wedn esday even ing with Smi th and his wife after att end ingthe laun ch in London ofthe La bour Party cam paign forthe Europe an ele ctions .\"He was ing reat s hap e last night ,and this came as ash ock to me ,\" Ro car d said.\" John Smit h wasa fer van t Europe an .He fo ught fora G reat Brit a in that would have al ead ing ro\n",
      "\n",
      "\n",
      "Currently working on: run10\n",
      "Configuration:\n",
      "175 150 0.35 0.99 3.5 0.989\n"
     ]
    },
    {
     "data": {
      "application/vnd.jupyter.widget-view+json": {
       "model_id": "2733fd9e8e1b49be8df1e62740efedbb",
       "version_major": 2,
       "version_minor": 0
      },
      "text/plain": [
       "Text processing:   0%|          | 0/652295 [00:00<?, ?it/s]"
      ]
     },
     "metadata": {},
     "output_type": "display_data"
    },
    {
     "data": {
      "application/vnd.jupyter.widget-view+json": {
       "model_id": "c3654cd889c640559ff6817303a2f97a",
       "version_major": 2,
       "version_minor": 0
      },
      "text/plain": [
       "Iterations:   0%|          | 0/175 [00:00<?, ?it/s]"
      ]
     },
     "metadata": {},
     "output_type": "display_data"
    },
    {
     "name": "stdout",
     "output_type": "stream",
     "text": [
      "Evaluating run: run10 in file run10.txt\n",
      "WARNING: Different sizes of test and gold files: TEST: 651796, GOLD: 651797\n",
      "P:0.215, R:0.342, F:0.264\n",
      "T ri but es p our edin from around the world Thursda y tothe late Labo ur Party leader John S mi th ,who died earlier from am as sive hear ta ttack aged 55 .In Wash ingto n ,the US State Depar tment issue da state ment reg re tting \"the un time ly death \" ofthe ra pi er - to ng u ed Sco t t ish b arri ster and par liamenta rian .\"M r .S mi th , throug hou this dis tin gu ished ca re er in govern ment and in oppo s ition , left a prof ound im pre ssion onthe his tory of his party and his countr y,\" State Depar tment spokesm an Michae l McC ur ry said.\" Secre tary ( of State War ren ) Chris top her ext end s his d eep est cond ol ence sto M r s. Smith and tothe Smith ch ildr en .\"In Bonn ,the head ofthe German Soci al Demo cra tic Party , Rudol f S char p ing ,said ina state men the was\" very aff ected bythe s ud den death of John Smith .\"A good fri end of German s oc ial d emocra cy has left us too early .He was very close to ach i ev ing his life 's goal of mak ingthe La bour Party the l arge st politi cal force in Britai n \"and wouldb e \" cru el ly miss ed\" in Europ e ,he said. HongK ong G over nor Chris P at ten ,a former Con serv ative Party ch air man , off ered his cond ole nce s tothe Smith famil yand said his former polit cal opp on ent was a\" good and de cent man , wide lyre spect ed .\"In Franc e ,F rench Pres ident Franc o is Mit terr and sent ame s s age of cond ol ence sto Smith 's wi d ow El iz ab e th and to Labo ur Party gener al - s ecretar y L arr y W hit ty .The head ofthe Fren ch Soci al ist Party Mic hel Ro car d told F rench radio Thursda y he was\" s ho cked and st un ned \"by Smith 's death : Ro car d had sp ent Wednesday even ing with Smith and his wife after at tend ingthe laun ch in London ofthe La bour Party campa ign forthe Europea ne le ctions .\"He was ing reat sha pe last night ,and this c am eas ash ock to me ,\" Ro car d said.\" John Smith wasa fer van t Europea n .He f ought fora G reat Britai n that would havea lead ing rol e inthe build\n",
      "\n",
      "\n",
      "Currently working on: run11\n",
      "Configuration:\n",
      "175 150 0.5 0.99 3.5 0.989\n"
     ]
    },
    {
     "data": {
      "application/vnd.jupyter.widget-view+json": {
       "model_id": "743ad6dc3ad1463bbe1711ccfa3378ce",
       "version_major": 2,
       "version_minor": 0
      },
      "text/plain": [
       "Text processing:   0%|          | 0/652295 [00:00<?, ?it/s]"
      ]
     },
     "metadata": {},
     "output_type": "display_data"
    },
    {
     "data": {
      "application/vnd.jupyter.widget-view+json": {
       "model_id": "cd8f246d7ffd43559efdfb2bbe2a731b",
       "version_major": 2,
       "version_minor": 0
      },
      "text/plain": [
       "Iterations:   0%|          | 0/175 [00:00<?, ?it/s]"
      ]
     },
     "metadata": {},
     "output_type": "display_data"
    },
    {
     "name": "stdout",
     "output_type": "stream",
     "text": [
      "Evaluating run: run11 in file run11.txt\n",
      "WARNING: Different sizes of test and gold files: TEST: 651796, GOLD: 651797\n",
      "P:0.216, R:0.342, F:0.265\n",
      "Tri but e sp our edin from around the world Thursda y tothe late Labour Party leader John S mith ,who died e arlie r from ama s sive hear t at tack age d 55 .In Washi ngton , theUS State De part ment issu eda state ment re gre t ting \" the unti me ly death \" ofthe rap i er- ton gu ed S co t ti sh bar r ister and par liam ent ari an .\"M r .S mith , t hrough out his dis ting u ish ed c are er ing over n ment and in oppos ition , left a pro found imp re ssion onthe his tory of his party and his count r y,\" State De part ments pokesm an Mich ael McC ur ry said .\"S e cretar y( of StateW arre n ) Chris to pher ext end sh is d eep est cond ol ence sto M r s.S mith and tothe Smit h childr en .\"In Bonn ,the head ofthe German Soci al Democ ra tic Party , Rud ol f Sch ar p ing ,said ina state ment he was\" very aff ected bythe s ud den death of John Smit h .\"A good fri end of German s ocia l demo c racy has left us too early .He was very close to ach ie v inghis life 's goal of mak ingthe Labour Party the larg est polit ical force in Brita in \"and w ouldbe \" cru el ly miss ed \"in Europe , hesaid . Hon gKong G over nor Chris P at ten ,a former Con serv ative Party ch air man , offer ed his cond ol ence sto the Smi th family and said his former polit cal opp on ent was a\" good and de cent man , wide ly re spect ed .\"In Franc e, French Pre sident Franc o is Mit terr and sent ame ss age of cond ol ence sto Smit h's wi dow El iza be th and to Labour Party gener al - secretary La r ry Whi t ty .The head ofthe French Soci alist Party Mich el Ro c ard told French radio Thurs day he was\" sho cked and st un ned \"by Smi th 's death :R o car d had sp ent Wedne sday even ing with Smit hand his wif e after att end ingthe l aunch in Londo n ofthe Labour Party campa ign forthe Europe an ele ctions .\"He was ing reat sha pe last night ,and this came as ash ock to me ,\" Ro c ard said. \" John Smi th was af erv ant Europe an .He fo ught fora Gre at Brita in that would have a lead ing role inthe bui\n",
      "\n",
      "\n",
      "Currently working on: run12\n",
      "Configuration:\n",
      "175 150 0.65 0.99 3.5 0.989\n"
     ]
    },
    {
     "data": {
      "application/vnd.jupyter.widget-view+json": {
       "model_id": "4591b5b74c81460d935d9e60030065b1",
       "version_major": 2,
       "version_minor": 0
      },
      "text/plain": [
       "Text processing:   0%|          | 0/652295 [00:00<?, ?it/s]"
      ]
     },
     "metadata": {},
     "output_type": "display_data"
    },
    {
     "data": {
      "application/vnd.jupyter.widget-view+json": {
       "model_id": "bd55733017c3459d8a3bf3577ab09329",
       "version_major": 2,
       "version_minor": 0
      },
      "text/plain": [
       "Iterations:   0%|          | 0/175 [00:00<?, ?it/s]"
      ]
     },
     "metadata": {},
     "output_type": "display_data"
    },
    {
     "name": "stdout",
     "output_type": "stream",
     "text": [
      "Evaluating run: run12 in file run12.txt\n",
      "WARNING: Different sizes of test and gold files: TEST: 651796, GOLD: 651797\n",
      "P:0.215, R:0.335, F:0.262\n",
      "Tri but esp our edin from aroun dthe world Thursda y tothe late Labour Party leader John S mi th ,who died e arlier from ama ssive hear ta ttack ag ed 55 .In Washing ton ,the US State Depar tment issu eda state ment re gre tting \"the unti me ly death \" ofthe rap ier - ton gu ed Sco t t ish bar ris ter and parli ament ari an .\"M r . Smith , t hrough ou this dis ting u ish ed car e er in governmen t and in opposi tion, left a prof ound imp re ssion onthe his tory of his party and his count ry, \" State Depar tment spoke sman Micha elMcC ur ry said.\" Secr etary ( of State War re n ) Christ op her extend s his de ep est cond ol ence sto M r s.S mit hand tothe Smith chil dr en .\"In B on n ,the head ofthe German Soci al Demo cratic Party , Rudol f S char p ing ,said ina state men the was\" very a ffec tedby the s ud den death of John Smith .\"A good f rie nd of German so cial de mocra cy has left us too early .He was very close toa chi e ving his life 's go alof mak ingthe Labour Party the large st polit ical force in Brit ain \"and wouldbe \" cru el ly miss ed \"in Europe , hesaid .H ong Kong G over nor Chris Pat ten , af ormer Con serv ative Party ch air man , offer ed his cond ol ence sto the Smith fa mily and said his form er polit cal oppon ent was a\" good and dec ent man , wide ly re spect ed .\"In France , French Pres ident Franc o is Mi tter rand sent am ess age of cond ol ence sto Smith 's wi d ow El iz ab eth and to Labour Party gener al- secre tary Lar ry W hit ty .The headof the French Soci alist Party Mich el Ro car d told French radi o Th ursday he was\" sho cked and st un n ed\" by S mi th 's death : Ro car d had sp ent Wedne sday even ing with Smith and his wife after att end ingthe l aunch in London ofthe Labour Party campa ign forthe Europe an elect ions .\"He was ing reat sha pe last night ,and this came as ash ock to me ,\" Ro c ard said.\" John Smith wasa fer van t Europe an .He f ought fora G reat Brit ain that would havea lead ing role inthe build ingof Europe \n",
      "\n",
      "\n"
     ]
    }
   ],
   "source": [
    "import csv\n",
    "\n",
    "with open('text_seg/config.csv', mode='r') as csv_file:\n",
    "    csv_reader = csv.DictReader(csv_file)\n",
    "    for row in csv_reader:\n",
    "        name = row[\"name\"]\n",
    "        iterations = int(row[\"iterations\"])\n",
    "        alpha = int(row[\"alpha\"])\n",
    "        p_c = float(row[\"p_c\"])\n",
    "        p_cont = float(row[\"p_cont\"])\n",
    "        T = float(row[\"T\"])\n",
    "        T_decrease = float(row[\"T_decrease\"])\n",
    "        \n",
    "        print(\"Currently working on: {}\".format(name))\n",
    "        print(\"Configuration:\")\n",
    "        print(iterations, alpha, p_c, p_cont, T, T_decrease)\n",
    "        precision, recall, f1 = fit(\n",
    "            name, \n",
    "            iterations, \n",
    "            alpha, \n",
    "            p_c, \n",
    "            p_cont, \n",
    "            T, \n",
    "            T_decrease)\n",
    "        \n",
    "        config_and_results = (name, iterations, alpha, p_c, p_cont,\n",
    "                              T, T_decrease, precision, recall, f1)\n",
    "        \n",
    "        runs.append(config_and_results)\n",
    "        \n",
    "        if best_run == None:\n",
    "            best_run = config_and_results\n",
    "        else:\n",
    "            if best_run[9] < config_and_results[9]:\n",
    "                best_run = config_and_results\n",
    "        "
   ]
  },
  {
   "cell_type": "code",
   "execution_count": 17,
   "id": "446f315d",
   "metadata": {},
   "outputs": [],
   "source": [
    "import pandas as pd\n",
    "\n",
    "df = pd.DataFrame.from_records(runs, columns =['Run name', 'Iterations', 'alpha', 'p_c', 'p_cont', \n",
    "                                              'T', 'T_decrease', 'Precision', 'Recall', 'F1'])"
   ]
  },
  {
   "cell_type": "code",
   "execution_count": 18,
   "id": "b3b89c7d",
   "metadata": {},
   "outputs": [
    {
     "data": {
      "text/html": [
       "<div>\n",
       "<style scoped>\n",
       "    .dataframe tbody tr th:only-of-type {\n",
       "        vertical-align: middle;\n",
       "    }\n",
       "\n",
       "    .dataframe tbody tr th {\n",
       "        vertical-align: top;\n",
       "    }\n",
       "\n",
       "    .dataframe thead th {\n",
       "        text-align: right;\n",
       "    }\n",
       "</style>\n",
       "<table border=\"1\" class=\"dataframe\">\n",
       "  <thead>\n",
       "    <tr style=\"text-align: right;\">\n",
       "      <th></th>\n",
       "      <th>Run name</th>\n",
       "      <th>Iterations</th>\n",
       "      <th>alpha</th>\n",
       "      <th>p_c</th>\n",
       "      <th>p_cont</th>\n",
       "      <th>T</th>\n",
       "      <th>T_decrease</th>\n",
       "      <th>Precision</th>\n",
       "      <th>Recall</th>\n",
       "      <th>F1</th>\n",
       "    </tr>\n",
       "  </thead>\n",
       "  <tbody>\n",
       "    <tr>\n",
       "      <th>0</th>\n",
       "      <td>basic</td>\n",
       "      <td>100</td>\n",
       "      <td>100</td>\n",
       "      <td>0.50</td>\n",
       "      <td>0.99</td>\n",
       "      <td>1.0</td>\n",
       "      <td>1.0000</td>\n",
       "      <td>0.1725</td>\n",
       "      <td>0.2894</td>\n",
       "      <td>0.2161</td>\n",
       "    </tr>\n",
       "    <tr>\n",
       "      <th>1</th>\n",
       "      <td>run2</td>\n",
       "      <td>100</td>\n",
       "      <td>100</td>\n",
       "      <td>0.40</td>\n",
       "      <td>0.99</td>\n",
       "      <td>1.0</td>\n",
       "      <td>1.0000</td>\n",
       "      <td>0.1745</td>\n",
       "      <td>0.2919</td>\n",
       "      <td>0.2184</td>\n",
       "    </tr>\n",
       "    <tr>\n",
       "      <th>2</th>\n",
       "      <td>run3</td>\n",
       "      <td>100</td>\n",
       "      <td>100</td>\n",
       "      <td>0.60</td>\n",
       "      <td>0.99</td>\n",
       "      <td>1.0</td>\n",
       "      <td>1.0000</td>\n",
       "      <td>0.1761</td>\n",
       "      <td>0.2940</td>\n",
       "      <td>0.2203</td>\n",
       "    </tr>\n",
       "    <tr>\n",
       "      <th>3</th>\n",
       "      <td>run4</td>\n",
       "      <td>150</td>\n",
       "      <td>100</td>\n",
       "      <td>0.40</td>\n",
       "      <td>0.99</td>\n",
       "      <td>1.0</td>\n",
       "      <td>1.0000</td>\n",
       "      <td>0.1788</td>\n",
       "      <td>0.2988</td>\n",
       "      <td>0.2238</td>\n",
       "    </tr>\n",
       "    <tr>\n",
       "      <th>4</th>\n",
       "      <td>run5</td>\n",
       "      <td>150</td>\n",
       "      <td>100</td>\n",
       "      <td>0.50</td>\n",
       "      <td>0.99</td>\n",
       "      <td>1.0</td>\n",
       "      <td>1.0000</td>\n",
       "      <td>0.1779</td>\n",
       "      <td>0.2965</td>\n",
       "      <td>0.2224</td>\n",
       "    </tr>\n",
       "    <tr>\n",
       "      <th>5</th>\n",
       "      <td>run6</td>\n",
       "      <td>150</td>\n",
       "      <td>100</td>\n",
       "      <td>0.60</td>\n",
       "      <td>0.99</td>\n",
       "      <td>1.0</td>\n",
       "      <td>1.0000</td>\n",
       "      <td>0.1790</td>\n",
       "      <td>0.2999</td>\n",
       "      <td>0.2242</td>\n",
       "    </tr>\n",
       "    <tr>\n",
       "      <th>6</th>\n",
       "      <td>run7</td>\n",
       "      <td>250</td>\n",
       "      <td>100</td>\n",
       "      <td>0.40</td>\n",
       "      <td>0.99</td>\n",
       "      <td>2.5</td>\n",
       "      <td>0.9935</td>\n",
       "      <td>0.1987</td>\n",
       "      <td>0.3191</td>\n",
       "      <td>0.2449</td>\n",
       "    </tr>\n",
       "    <tr>\n",
       "      <th>7</th>\n",
       "      <td>run8</td>\n",
       "      <td>250</td>\n",
       "      <td>100</td>\n",
       "      <td>0.50</td>\n",
       "      <td>0.99</td>\n",
       "      <td>2.5</td>\n",
       "      <td>0.9935</td>\n",
       "      <td>0.2093</td>\n",
       "      <td>0.3342</td>\n",
       "      <td>0.2574</td>\n",
       "    </tr>\n",
       "    <tr>\n",
       "      <th>8</th>\n",
       "      <td>run9</td>\n",
       "      <td>250</td>\n",
       "      <td>100</td>\n",
       "      <td>0.60</td>\n",
       "      <td>0.99</td>\n",
       "      <td>2.5</td>\n",
       "      <td>0.9935</td>\n",
       "      <td>0.2014</td>\n",
       "      <td>0.3218</td>\n",
       "      <td>0.2477</td>\n",
       "    </tr>\n",
       "    <tr>\n",
       "      <th>9</th>\n",
       "      <td>run10</td>\n",
       "      <td>175</td>\n",
       "      <td>150</td>\n",
       "      <td>0.35</td>\n",
       "      <td>0.99</td>\n",
       "      <td>3.5</td>\n",
       "      <td>0.9890</td>\n",
       "      <td>0.2150</td>\n",
       "      <td>0.3421</td>\n",
       "      <td>0.2640</td>\n",
       "    </tr>\n",
       "    <tr>\n",
       "      <th>10</th>\n",
       "      <td>run11</td>\n",
       "      <td>175</td>\n",
       "      <td>150</td>\n",
       "      <td>0.50</td>\n",
       "      <td>0.99</td>\n",
       "      <td>3.5</td>\n",
       "      <td>0.9890</td>\n",
       "      <td>0.2160</td>\n",
       "      <td>0.3415</td>\n",
       "      <td>0.2647</td>\n",
       "    </tr>\n",
       "    <tr>\n",
       "      <th>11</th>\n",
       "      <td>run12</td>\n",
       "      <td>175</td>\n",
       "      <td>150</td>\n",
       "      <td>0.65</td>\n",
       "      <td>0.99</td>\n",
       "      <td>3.5</td>\n",
       "      <td>0.9890</td>\n",
       "      <td>0.2149</td>\n",
       "      <td>0.3351</td>\n",
       "      <td>0.2618</td>\n",
       "    </tr>\n",
       "  </tbody>\n",
       "</table>\n",
       "</div>"
      ],
      "text/plain": [
       "   Run name  Iterations  alpha   p_c  p_cont    T  T_decrease  Precision  \\\n",
       "0     basic         100    100  0.50    0.99  1.0      1.0000     0.1725   \n",
       "1      run2         100    100  0.40    0.99  1.0      1.0000     0.1745   \n",
       "2      run3         100    100  0.60    0.99  1.0      1.0000     0.1761   \n",
       "3      run4         150    100  0.40    0.99  1.0      1.0000     0.1788   \n",
       "4      run5         150    100  0.50    0.99  1.0      1.0000     0.1779   \n",
       "5      run6         150    100  0.60    0.99  1.0      1.0000     0.1790   \n",
       "6      run7         250    100  0.40    0.99  2.5      0.9935     0.1987   \n",
       "7      run8         250    100  0.50    0.99  2.5      0.9935     0.2093   \n",
       "8      run9         250    100  0.60    0.99  2.5      0.9935     0.2014   \n",
       "9     run10         175    150  0.35    0.99  3.5      0.9890     0.2150   \n",
       "10    run11         175    150  0.50    0.99  3.5      0.9890     0.2160   \n",
       "11    run12         175    150  0.65    0.99  3.5      0.9890     0.2149   \n",
       "\n",
       "    Recall      F1  \n",
       "0   0.2894  0.2161  \n",
       "1   0.2919  0.2184  \n",
       "2   0.2940  0.2203  \n",
       "3   0.2988  0.2238  \n",
       "4   0.2965  0.2224  \n",
       "5   0.2999  0.2242  \n",
       "6   0.3191  0.2449  \n",
       "7   0.3342  0.2574  \n",
       "8   0.3218  0.2477  \n",
       "9   0.3421  0.2640  \n",
       "10  0.3415  0.2647  \n",
       "11  0.3351  0.2618  "
      ]
     },
     "execution_count": 18,
     "metadata": {},
     "output_type": "execute_result"
    }
   ],
   "source": [
    "df"
   ]
  },
  {
   "cell_type": "markdown",
   "id": "05b079d4",
   "metadata": {},
   "source": [
    "## Best run:"
   ]
  },
  {
   "cell_type": "code",
   "execution_count": 19,
   "id": "39065050",
   "metadata": {},
   "outputs": [
    {
     "name": "stdout",
     "output_type": "stream",
     "text": [
      "('run11', 175, 150, 0.5, 0.99, 3.5, 0.989, 0.216, 0.3415, 0.2647)\n"
     ]
    }
   ],
   "source": [
    "print(best_run)"
   ]
  },
  {
   "cell_type": "markdown",
   "id": "c52bde0b",
   "metadata": {},
   "source": [
    "## Task 5\n",
    "\n",
    "Instead of Chinese Restaurant Process, try to employ the Pitman-Yor Process. Does it improve your results?"
   ]
  },
  {
   "cell_type": "code",
   "execution_count": 20,
   "id": "32131bcf",
   "metadata": {},
   "outputs": [
    {
     "ename": "SyntaxError",
     "evalue": "invalid syntax (1338032384.py, line 35)",
     "output_type": "error",
     "traceback": [
      "\u001b[0;36m  File \u001b[0;32m\"/tmp/ipykernel_161737/1338032384.py\"\u001b[0;36m, line \u001b[0;32m35\u001b[0m\n\u001b[0;31m    p_1 = count[]\u001b[0m\n\u001b[0m                ^\u001b[0m\n\u001b[0;31mSyntaxError\u001b[0m\u001b[0;31m:\u001b[0m invalid syntax\n"
     ]
    }
   ],
   "source": [
    "def PitmanYorTextSegmentation(text, text_size, iterations, alpha, p_c, p_cont, T = 1, T_decrease = 1):\n",
    "    # randomly initialize text segmentation\n",
    "    s = np.random.randint(low=0, high=2, size=text_size)\n",
    "    \n",
    "    # create the initial segmentation\n",
    "    words = segmentation(text, text_size, s)\n",
    "    count = get_word_counts(words)\n",
    "    \n",
    "    # total number of words\n",
    "    t = sum(count.values())\n",
    "    \n",
    "    processing_progress_bar = tqdm(range(1, text_size - 1), desc=\"Text processing\")\n",
    "    \n",
    "    for iteration in tqdm(range(iterations), desc=\"Iterations\"):\n",
    "        processing_progress_bar.reset()\n",
    "        for i in np.random.permutation(range(0, text_size - 1)):\n",
    "            \n",
    "            prev_word = get_prev_word(text, s, i)\n",
    "            next_word = get_next_word(text, s, i)\n",
    "            \n",
    "            joined = prev_word + next_word\n",
    "            if s[i] == 0:\n",
    "                count[joined] = max(0, count[joined] - 1)\n",
    "                t -= 1\n",
    "            else:\n",
    "                count[prev_word] = max(0, count[prev_word] - 1)\n",
    "                count[next_word] = max(0, count[next_word] - 1)\n",
    "                t -= 2\n",
    "            \n",
    "            p_0 = 0\n",
    "            if (count[joined] == 0):\n",
    "                p_0 = (alpha + d) / (alpha + t - 1)\n",
    "                p_0 *= p0(joined, p_c)\n",
    "            else:\n",
    "                p_1 = count[]\n",
    "            p_0 = (alpha * p0(joined, p_c) + count[joined]) / (alpha + t)\n",
    "            \n",
    "            p_1 = (alpha * p0(prev_word, p_c) + count[prev_word]) / (alpha + t)\n",
    "            p_1 *= (alpha * p0(next_word, p_c) + count[next_word]) / (alpha + t + 1)\n",
    "            p_1 *= p_cont\n",
    "            \n",
    "            # Annealing\n",
    "            p_0 = p_0 ** (1/T)\n",
    "            p_1 = p_1 ** (1/T)\n",
    "            \n",
    "            # Normalization\n",
    "            suma = p_0 + p_1\n",
    "            p_0 /= suma\n",
    "            p_1 /= suma\n",
    "            \n",
    "            s[i] = np.random.choice([0, 1], p=[p_0, p_1])\n",
    "            \n",
    "            if s[i] == 0:\n",
    "                count[joined] += 1\n",
    "                t += 1\n",
    "            else:\n",
    "                count[prev_word] += 1\n",
    "                count[next_word] += 1\n",
    "                t += 2\n",
    "\n",
    "            processing_progress_bar.update(1)\n",
    "        \n",
    "    words_updated = segmentation(text, text_size, s)\n",
    "    final_output = \" \".join(words_updated)\n",
    "    return final_output"
   ]
  },
  {
   "cell_type": "code",
   "execution_count": null,
   "id": "9a1f8dfc",
   "metadata": {},
   "outputs": [],
   "source": []
  },
  {
   "cell_type": "code",
   "execution_count": null,
   "id": "5263b954",
   "metadata": {},
   "outputs": [],
   "source": []
  }
 ],
 "metadata": {
  "kernelspec": {
   "display_name": "Python 3 (ipykernel)",
   "language": "python",
   "name": "python3"
  },
  "language_info": {
   "codemirror_mode": {
    "name": "ipython",
    "version": 3
   },
   "file_extension": ".py",
   "mimetype": "text/x-python",
   "name": "python",
   "nbconvert_exporter": "python",
   "pygments_lexer": "ipython3",
   "version": "3.9.7"
  }
 },
 "nbformat": 4,
 "nbformat_minor": 5
}
