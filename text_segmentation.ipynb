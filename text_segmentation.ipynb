{
 "cells": [
  {
   "cell_type": "code",
   "execution_count": 56,
   "id": "ad156f9e",
   "metadata": {
    "scrolled": true
   },
   "outputs": [],
   "source": [
    "import matplotlib.pyplot as plt\n",
    "import numpy as np\n",
    "import collections\n",
    "import random\n",
    "from tqdm.auto import tqdm\n",
    "\n",
    "\n",
    "%matplotlib inline\n",
    "import warnings\n",
    "warnings.filterwarnings(\"ignore\")"
   ]
  },
  {
   "cell_type": "markdown",
   "id": "2265dd22",
   "metadata": {},
   "source": [
    "Let's take a look at the data:"
   ]
  },
  {
   "cell_type": "code",
   "execution_count": 57,
   "id": "d9181a44",
   "metadata": {
    "scrolled": true
   },
   "outputs": [
    {
     "name": "stdout",
     "output_type": "stream",
     "text": [
      "TributespouredinfromaroundtheworldThursdaytothelateLabourPartyleaderJohnSmith,whodiedearlierfromamassiveheartattackaged55.InWashington,theUSStateDepartmentissuedastatementregretting\"theuntimelydeath\"oftherapier-tonguedScottishbarristerandparliamentarian.\"Mr.Smith,throughouthisdistinguishedcareeringovernmentandinopposition,leftaprofoundimpressiononthehistoryofhispartyandhiscountry,\"StateDepartmentspokesmanMichaelMcCurrysaid.\"Secretary(ofStateWarren)ChristopherextendshisdeepestcondolencestoMrs.SmithandtotheSmithchildren.\"InBonn,theheadoftheGermanSocialDemocraticParty,RudolfScharping,saidinastatementhewas\"veryaffectedbythesuddendeathofJohnSmith.\"AgoodfriendofGermansocialdemocracyhasleftustooearly.Hewasveryclosetoachievinghislife'sgoalofmakingtheLabourPartythelargestpoliticalforceinBritain\"andwouldbe\"cruellymissed\"inEurope,hesaid.HongKongGovernorChrisPatten,aformerConservativePartychairman,offeredhiscondolencestotheSmithfamilyandsaidhisformerpolitcalopponentwasa\"goodanddecentman,widelyresp\n"
     ]
    }
   ],
   "source": [
    "with open('text_seg/data_small.txt', 'r', encoding='utf-8') as file:\n",
    "    text = file.read()\n",
    "    print(text[:1000])"
   ]
  },
  {
   "cell_type": "code",
   "execution_count": 58,
   "id": "d7344e5f",
   "metadata": {
    "scrolled": true
   },
   "outputs": [
    {
     "data": {
      "text/plain": [
       "652297"
      ]
     },
     "execution_count": 58,
     "metadata": {},
     "output_type": "execute_result"
    }
   ],
   "source": [
    "text_size = len(text)\n",
    "text_size"
   ]
  },
  {
   "cell_type": "code",
   "execution_count": 59,
   "id": "0a6e917c",
   "metadata": {},
   "outputs": [],
   "source": [
    "C = len(set(text))"
   ]
  },
  {
   "cell_type": "code",
   "execution_count": 60,
   "id": "20c3df69",
   "metadata": {},
   "outputs": [
    {
     "name": "stdout",
     "output_type": "stream",
     "text": [
      "Number of unique characters: 74\n"
     ]
    }
   ],
   "source": [
    "print(\"Number of unique characters: {}\".format(C))"
   ]
  },
  {
   "cell_type": "markdown",
   "id": "9b1d8729",
   "metadata": {},
   "source": [
    "- There is 2 𝑛−1 possible segmentations for 𝑛-characters long data.\n",
    "- 𝑛 − 1 latent binary variables $𝑠_𝑖$: denoting whether there is of isn’t a separator between two characters.\n",
    "- Collapsed Gibbs sampling. Sample one variable conditioned by all the others.\n",
    "- Exchangeability: if we reorder the words in the sequence, overall probability is the same.\n",
    "- We can virtually move the changed words at the end of the sequence, compute the overal probablility of the two possibilities and then move the words virtually back.\n"
   ]
  },
  {
   "cell_type": "markdown",
   "id": "fb53741b",
   "metadata": {},
   "source": [
    "if $s_i$ is 1, then there is a separator between characters $c_i$ and $c_{i+1}$"
   ]
  },
  {
   "cell_type": "code",
   "execution_count": 61,
   "id": "93b6384d",
   "metadata": {},
   "outputs": [],
   "source": [
    "# Fixing the random seeds\n",
    "np.random.seed(1234)\n",
    "random.seed(1234)"
   ]
  },
  {
   "cell_type": "code",
   "execution_count": 62,
   "id": "c569a09a",
   "metadata": {},
   "outputs": [],
   "source": [
    "import collections\n",
    "\n",
    "def segmentation(text, text_size, s):\n",
    "    words = []\n",
    "    current_word = \"\"\n",
    "    for idx, character in enumerate(text):\n",
    "        if idx == text_size - 1:\n",
    "            current_word += character\n",
    "            continue\n",
    "        \n",
    "        if s[idx] == 1:\n",
    "            current_word += character\n",
    "            words.append(current_word)\n",
    "            current_word = \"\"\n",
    "        else:\n",
    "            current_word += character\n",
    "    return words\n",
    "\n",
    "def get_word_counts(words):\n",
    "    count = {}\n",
    "    counter = collections.Counter(words)\n",
    "    return counter\n",
    "    for key, value in counter.items():\n",
    "        count[key] = value\n",
    "    return count"
   ]
  },
  {
   "cell_type": "code",
   "execution_count": 63,
   "id": "1e93bfaa",
   "metadata": {},
   "outputs": [],
   "source": [
    "def get_prev_word(text, s, i):\n",
    "    if i == 0:\n",
    "        return text[i]\n",
    "    \n",
    "    start_idx = i\n",
    "    end_idx = i + 1\n",
    "    \n",
    "    # Edge cases\n",
    "    if s[start_idx] == 1 and s[start_idx-1] == 1:\n",
    "        return text[i]\n",
    "    \n",
    "    if s[start_idx] == 1 and s[start_idx-1] == 0:\n",
    "        start_idx -= 1\n",
    "        \n",
    "    while start_idx >= 0:\n",
    "        if s[start_idx] == 1:\n",
    "            start_idx += 1\n",
    "            break\n",
    "        start_idx -= 1\n",
    "    \n",
    "    if start_idx < 0:\n",
    "        start_idx = 0\n",
    "        \n",
    "    return text[start_idx:end_idx]"
   ]
  },
  {
   "cell_type": "code",
   "execution_count": 64,
   "id": "230a51fc",
   "metadata": {},
   "outputs": [],
   "source": [
    "def get_next_word(text, s, i):\n",
    "    word = \"\"\n",
    "    start_idx = i + 1\n",
    "    end_idx = i + 1\n",
    "    while end_idx <= len(text) - 1:\n",
    "        if s[end_idx] == 1:\n",
    "            break\n",
    "        end_idx += 1\n",
    "    \n",
    "    if end_idx == len(text):\n",
    "        end_idx -= 1\n",
    "    \n",
    "    word = text[start_idx:end_idx+1]\n",
    "    return word"
   ]
  },
  {
   "cell_type": "code",
   "execution_count": 66,
   "id": "5c3f013c",
   "metadata": {},
   "outputs": [],
   "source": [
    "def p0(word, p_c):\n",
    "    uniform = 1.0 / float(C)\n",
    "    return uniform**len(word) * p_c**(len(word)-1) * (1 - p_c)"
   ]
  },
  {
   "cell_type": "code",
   "execution_count": 67,
   "id": "249a2a43",
   "metadata": {},
   "outputs": [],
   "source": [
    "def CRPTextSegmentation(text, text_size, iterations, alpha, p_c, p_cont, T = 1, T_decrease = 1):\n",
    "    # randomly initialize text segmentation\n",
    "    s = np.random.randint(low=0, high=2, size=text_size)\n",
    "    \n",
    "    # create the initial segmentation\n",
    "    words = segmentation(text, text_size, s)\n",
    "    count = get_word_counts(words)\n",
    "    \n",
    "    # total number of words\n",
    "    t = sum(count.values())\n",
    "    \n",
    "    processing_progress_bar = tqdm(range(1, text_size - 1), desc=\"Text processing\")\n",
    "    \n",
    "    for iteration in tqdm(range(iterations), desc=\"Iterations\"):\n",
    "        processing_progress_bar.reset()\n",
    "        for i in np.random.permutation(range(0, text_size - 1)):\n",
    "            \n",
    "            prev_word = get_prev_word(text, s, i)\n",
    "            next_word = get_next_word(text, s, i)\n",
    "            \n",
    "            joined = prev_word + next_word\n",
    "            if s[i] == 0:\n",
    "                count[joined] = max(0, count[joined] - 1)\n",
    "                t -= 1\n",
    "            else:\n",
    "                count[prev_word] = max(0, count[prev_word] - 1)\n",
    "                count[next_word] = max(0, count[next_word] - 1)\n",
    "                t -= 2\n",
    "            \n",
    "            p_0 = (alpha * p0(joined, p_c) + count[joined]) / (alpha + t)\n",
    "            p_1 = (alpha * p0(prev_word, p_c) + count[prev_word]) / (alpha + t)\n",
    "            p_1 *= (alpha * p0(next_word, p_c) + count[next_word]) / (alpha + t + 1)\n",
    "            p_1 *= p_cont\n",
    "            \n",
    "            # Annealing\n",
    "            p_0 = p_0 ** (1/T)\n",
    "            p_1 = p_1 ** (1/T)\n",
    "            \n",
    "            # Normalization\n",
    "            suma = p_0 + p_1\n",
    "            p_0 /= suma\n",
    "            p_1 /= suma\n",
    "            \n",
    "            s[i] = np.random.choice([0, 1], p=[p_0, p_1])\n",
    "            \n",
    "            if s[i] == 0:\n",
    "                count[joined] += 1\n",
    "                t += 1\n",
    "            else:\n",
    "                count[prev_word] += 1\n",
    "                count[next_word] += 1\n",
    "                t += 2\n",
    "\n",
    "            processing_progress_bar.update(1)\n",
    "        \n",
    "    words_updated = segmentation(text, text_size, s)\n",
    "    final_output = \" \".join(words_updated)\n",
    "    return final_output"
   ]
  },
  {
   "cell_type": "markdown",
   "id": "0982fd21",
   "metadata": {},
   "source": [
    "## Task 3\n",
    "\n",
    "**Download the gold data and the evaluation script. What precision and recall you get?**"
   ]
  },
  {
   "cell_type": "code",
   "execution_count": 68,
   "id": "41c34603",
   "metadata": {},
   "outputs": [],
   "source": [
    "def save_and_evaluate(output, output_file_path):\n",
    "    output_file_path = \"text_seg/\" + output_file_path\n",
    "    with open(output_file_path, 'w', encoding='utf-8') as file:\n",
    "        file.write(output)\n",
    "    !perl text_seg/eval.pl text_seg/data_small_gold.txt $output_file_path\n",
    "    \n",
    "    with open('text_seg/results.txt', 'r') as f_results:\n",
    "        lines = f_results.readlines()\n",
    "        precision = round(float(lines[0]), 4)\n",
    "        recall = round(float(lines[1]), 4)\n",
    "        f1 = round(float(lines[2]), 4)\n",
    "        \n",
    "        return precision, recall, f1"
   ]
  },
  {
   "cell_type": "code",
   "execution_count": 69,
   "id": "f56f8163",
   "metadata": {},
   "outputs": [],
   "source": [
    "def fit(run_name, iterations, alpha, p_c, p_cont, T=1, T_decrease=1):\n",
    "    output = CRPTextSegmentation(text, text_size, iterations, alpha, p_c, p_cont, T, T_decrease)\n",
    "    \n",
    "    output_file_path = \"{}.txt\".format(run_name)\n",
    "    print(\"Evaluating run: {} in file {}\".format(run_name, output_file_path))\n",
    "    precision, recall, f1 = save_and_evaluate(output, output_file_path)\n",
    "    \n",
    "    print(output[:2000])\n",
    "    print()\n",
    "    print()\n",
    "    \n",
    "    return precision, recall, f1"
   ]
  },
  {
   "cell_type": "code",
   "execution_count": 70,
   "id": "35d108f2",
   "metadata": {},
   "outputs": [],
   "source": [
    "# The list that will keep all configurations for different runs\n",
    "# and the evaluation measures calculated for these configs\n",
    "runs = []\n",
    "best_run = None"
   ]
  },
  {
   "cell_type": "code",
   "execution_count": 71,
   "id": "6cba0946",
   "metadata": {},
   "outputs": [
    {
     "data": {
      "application/vnd.jupyter.widget-view+json": {
       "model_id": "e21b68cf65a04ddc808d0f2530e5b729",
       "version_major": 2,
       "version_minor": 0
      },
      "text/plain": [
       "Text processing:   0%|          | 0/652295 [00:00<?, ?it/s]"
      ]
     },
     "metadata": {},
     "output_type": "display_data"
    },
    {
     "data": {
      "application/vnd.jupyter.widget-view+json": {
       "model_id": "a51519414cb143f8a08b01c1c949922a",
       "version_major": 2,
       "version_minor": 0
      },
      "text/plain": [
       "Iterations:   0%|          | 0/100 [00:00<?, ?it/s]"
      ]
     },
     "metadata": {},
     "output_type": "display_data"
    },
    {
     "name": "stdout",
     "output_type": "stream",
     "text": [
      "Evaluating run: basic in file basic.txt\n",
      "WARNING: Different sizes of test and gold files: TEST: 651796, GOLD: 651797\n",
      "P:0.172, R:0.289, F:0.216\n",
      "T ri but esp our edin from a round the world Thursday tothe late Lab ourP arty lead er John S mith ,who died ear li er from am as sive hear tattack aged 55 .In Wash ingto n, theUS St at eDep art ment issue da state ment reg re t ting \"the unti me ly death \" ofthe ra pi er- ton gu ed Sco t t ish bar r i ster and parli a ment arian .\"M r .S mith , th rough out his dis t in gu ish ed ca re er in governm ent and in op positi on , lef t a pro f ound imp re ssion onthe his tory of his part yand his country ,\" State Depa r t ments p okesm an Mich a el McC ur ry said. \" Secre tary ( of State Warr en ) Chri sto pher ext end s his de e p est con do l ence s to M r s.S mith and tothe Smi th c hildr en .\"In B on n, the head ofthe G erman S ocial Demo cratic Part y, Ru do l f Sch ar ping ,said i nasta te me nthewa s\" very aff ected bythe su d den death of J ohnS mith .\"A good frie nd ofG erman s ocial de mocrac y has lef t us to o ear ly .He was very close toa chie ving his life 's go alof mak ingthe Labou r P arty the larg est pol itical force inB ri tain \"and wouldb e \" c ru el ly miss ed \"in Europe ,he said. Hong Ko ng G over nor Chri s Pa tten ,a former Con serv ative Part y ch air man , o ffere d his con do le nces tothe S mith fami ly and said his former pol it cal op ponent wasa \" good and dec ent man ,w idely resp ected .\"In Franc e,Fr en ch Pr esident Franc o is Mi tter ran d sent ame ssag eof con do l ence sto Smit h's wi dow El iz a be th and to Lab our Part ygener al - sec retary Lar ry Whi t t y.Th e head o ftheF rench So ciali stPar t y Mich el Ro car d told Frenc h radi o Thursday hewas \" sho cked and s tunn ed \"by S mith 's death : Ro car d had sp ent Wed nesda y even ing with Smit hand his wife after att end ingthe l aunch in London ofthe Lab ourP arty camp aign forthe E uropean el ection s .\"He was ing reat sha pe last n ight ,and this came a s ash ock to me ,\"R o c ard said .\"J ohnS mith was af erv ant E uropean .He fo ught fora Gr e at Brita in that wou ldhav\n",
      "\n",
      "\n"
     ]
    }
   ],
   "source": [
    "name, iterations, alpha, p_c, p_cont, T, T_decrease = \"basic\", 100, 100, 0.5, 0.99, 1, 1\n",
    "precision, recall, f1 = fit(name, iterations, alpha, p_c, p_cont, T, T_decrease)\n",
    "config_and_results = (name, iterations, alpha, p_c, p_cont,\n",
    "                      T, T_decrease, precision, recall, f1)\n",
    "\n",
    "runs.append(config_and_results)\n",
    "\n",
    "if best_run == None:\n",
    "    best_run = config_and_results\n",
    "else:\n",
    "    if best_run[9] < config_and_results[9]:\n",
    "        best_run = config_and_results"
   ]
  },
  {
   "cell_type": "markdown",
   "id": "979585cc",
   "metadata": {},
   "source": [
    "## Trying out different parameters\n",
    "\n",
    "- ... try to change the parameters to obtain better segmentations\n",
    "- What precision and recall you get?\n",
    "- Try to do annealing and run the model for different temperatures."
   ]
  },
  {
   "cell_type": "code",
   "execution_count": 73,
   "id": "3d29ec19",
   "metadata": {
    "scrolled": true
   },
   "outputs": [
    {
     "name": "stdout",
     "output_type": "stream",
     "text": [
      "Currently working on: run2\n",
      "Configuration:\n",
      "100 100 0.4 0.99 1.0 1.0\n"
     ]
    },
    {
     "data": {
      "application/vnd.jupyter.widget-view+json": {
       "model_id": "b44dbb77466447e490246079ad705b06",
       "version_major": 2,
       "version_minor": 0
      },
      "text/plain": [
       "Text processing:   0%|          | 0/652295 [00:00<?, ?it/s]"
      ]
     },
     "metadata": {},
     "output_type": "display_data"
    },
    {
     "data": {
      "application/vnd.jupyter.widget-view+json": {
       "model_id": "abb2042e8741474da8e8dfca88c34229",
       "version_major": 2,
       "version_minor": 0
      },
      "text/plain": [
       "Iterations:   0%|          | 0/100 [00:00<?, ?it/s]"
      ]
     },
     "metadata": {},
     "output_type": "display_data"
    },
    {
     "name": "stdout",
     "output_type": "stream",
     "text": [
      "Evaluating run: run2 in file run2.txt\n",
      "WARNING: Different sizes of test and gold files: TEST: 651796, GOLD: 651797\n",
      "P:0.173, R:0.290, F:0.216\n",
      "T ri but es p our edin from a round the world Thurs day tothe late Lab our Party leader John Smi th ,who died e arlier from a mass ive hear t at tack aged 55 .In Wa shingto n ,theU S State D epar tment issue da s tatement re gre tting \" the un time ly de a th \" ofthe rap i er- t on gu ed S co t tish bar ris ter and p arliam ent arian .\"M r.S mi th , th rough out his dis t ing u ished c are er ing overnm ent and in oppo sition , left a prof ound imp re ssion onthe histo ryof his party and his c ountry , \" State D epar tment s po kesman Mi chael M cCur r ysaid .\"S e cretar y( of State War re n ) Chri stoph er ext end s his d eep est con dol ences to M r s. Smi th and tothe Smi th chi ldren . \"InB on n , the head ofthe Germa nSoci al D emoc ratic Party , Ru d olf S char ping ,said ina state ment hewas\" very aff ect edbythe s udde nd eath of John Smi th .\"A good frien d of G erman s ocial democr acy has left us to o e arly .He was very clos et oach i ev ing his life 'sgo alof mak ingthe La bo ur Party the l arges t political force in Bri tain \" and wouldbe \" c r uel ly miss ed \"in Europe ,he sa id.H ongKo ng G over n or Chri s Pa t ten , a form er Con serv ativ e Party chai rman , of fer ed h is cond olenc es tothe Smi th f amil y and said his form er polit cal op ponen t wasa \" good and de cent man , wid ely res pected .\"I n France , Frenc h President Fran co is M it ter rand sent am ess age of cond olenc esto Smi th 's wid ow E liz ab e th and to Lab our Party gen er a l - secr e tar y Lar ryW hit t y .The head ofthe Frenc h S ocial ist Party Mi c hel Ro c ard told F rench radio Thursda y hewas\" sh ocked and st un n ed\" by Smi th 's d eath : Ro c ard had s pen t Wedne sday even ing with Smi th and his wife after atte nd ingthe launch inLon don ofthe Lab ou r Party cam pa ign forthe Europe an elec tions .\"He was ing reat sh ap e last night ,and this came asa s h ock to m e ,\" Ro c ard said. \" J ohnS mi th wasa fer v an t Eu ropean .He f ough t fora G reat Brit a in tha\n",
      "\n",
      "\n",
      "Currently working on: run3\n",
      "Configuration:\n",
      "100 100 0.6 0.99 1.0 1.0\n"
     ]
    },
    {
     "data": {
      "application/vnd.jupyter.widget-view+json": {
       "model_id": "5189eb1d80654837a3cc0a8204f99aaf",
       "version_major": 2,
       "version_minor": 0
      },
      "text/plain": [
       "Text processing:   0%|          | 0/652295 [00:00<?, ?it/s]"
      ]
     },
     "metadata": {},
     "output_type": "display_data"
    },
    {
     "data": {
      "application/vnd.jupyter.widget-view+json": {
       "model_id": "59b511bf5cf84c21aef9eac7ecf8b584",
       "version_major": 2,
       "version_minor": 0
      },
      "text/plain": [
       "Iterations:   0%|          | 0/100 [00:00<?, ?it/s]"
      ]
     },
     "metadata": {},
     "output_type": "display_data"
    },
    {
     "name": "stdout",
     "output_type": "stream",
     "text": [
      "Evaluating run: run3 in file run3.txt\n",
      "WARNING: Different sizes of test and gold files: TEST: 651796, GOLD: 651797\n",
      "P:0.178, R:0.295, F:0.222\n",
      "T ri but espo ur edin from arou ndthe worl d Thursday tothe late Labou r Party lead er John S mith ,who died e a rlier from a mass ive hear t att ack aged 55 .In W ashing ton , theUS State Dep artme nt issu eda state ment reg re tting \"the un time ly death \" ofthe rap i er- to n gu edS co t t ish b arr is ter and parli a ment arian .\"M r .S mith , th rough out his dis ting u i shed car e er ing overnm ent and in oppos i tion, left a pro found imp re s sion onthe history of his p arty and his coun t ry ,\" State Dep artme n t s pokesma n M ichae lMcC ur ry said. \" Se cretary ( of St ateWar re n ) Chri stoph e r exten d s his deep est cond o le nces to M r s.S mith and totheS mith chi ldren .\"In Bo n n ,the head ofthe German Soci al D emocr atic Party , Rud o lf Sch ar p ing ,said ina state ment he was\" very aff ected bythe su dden death ofJ ohnS mith .\"A good frie nd of German so cial democr ac y has left us too early .He was very close to a chie ving his life 's go al of mak ingthe La bour Party the l arge st poli tical force inB ritain \" and wouldb e \" cr u el l y miss ed\" in Europe ,he said. H ongKo ng G over nor Chri s Pat ten ,a form e r Con se rva tive Party ch air man, offer ed hisc ondol ence s totheS mith fami ly and said his for mer polit ca l oppo n ent wasa \" good and de cent man, wide ly resp ected .\"I nFr ance , French Presid ent Franc o is Mi tter r and s ent ame s s age of cond ol ence sto Smi th 's wi dow El i zab e th and to Labou r Party gen eral - secre tary Lar ry Whit ty .The head ofthe French Soci alist Party M ich el Ro car d told French r adio Thursday he was\" sho cked and st un n ed\" byS mith 's death : Ro car d had spe nt Wed nesday even ing with Smit hand his w if e after att end ingthe la unch in London ofthe La bour Party camp a ign forthe Europe an elect ions .\"He was in great sha pe last n ight ,and this came asa sh ock to me ,\"R o c ards aid.\" John S mith wa safe rva ntE ur opean .He f ought fora G reat Brit a in that w ouldha ve a lea\n",
      "\n",
      "\n",
      "Currently working on: run4\n",
      "Configuration:\n",
      "150 100 0.4 0.99 1.0 1.0\n"
     ]
    },
    {
     "data": {
      "application/vnd.jupyter.widget-view+json": {
       "model_id": "35f02e3db1ec45e39aaf4b6ee37430d6",
       "version_major": 2,
       "version_minor": 0
      },
      "text/plain": [
       "Text processing:   0%|          | 0/652295 [00:00<?, ?it/s]"
      ]
     },
     "metadata": {},
     "output_type": "display_data"
    },
    {
     "data": {
      "application/vnd.jupyter.widget-view+json": {
       "model_id": "9c8d3e53fa33446897bbf918fbfff29a",
       "version_major": 2,
       "version_minor": 0
      },
      "text/plain": [
       "Iterations:   0%|          | 0/150 [00:00<?, ?it/s]"
      ]
     },
     "metadata": {},
     "output_type": "display_data"
    },
    {
     "name": "stdout",
     "output_type": "stream",
     "text": [
      "Evaluating run: run4 in file run4.txt\n",
      "WARNING: Different sizes of test and gold files: TEST: 651795, GOLD: 651797\n",
      "P:0.181, R:0.301, F:0.226\n",
      "Tri but es po u red in from around the world T hursday tothe late Labo ur Party leader J ohnS mi th ,who di ed earlier from am a ssive hear t attack aged 55 .In Was hington ,the US State Depar tment issued astate ment re gre t ting \"the unti mely death \" ofthe rap i e r-t on gu ed Scot t ish barr ister and par liam en tarian .\"M r .S mi th , throu g hou this dist in gu ished ca re er in govern ment and in oppo sitio n , left a prof ound imp re ssion onthe his tory of his party an d his country , \" State Depar tment spokes man Mic hael Mc Curr ysaid .\"S e cre tary ( of State War re n ) Chris top here x tend s his deep e st con do le nce sto M rs . Smith an d tothe S mi th chi ldren .\"I n Bonn ,the h eadoft he G erman S ocia l Demo cratic Party , Rudo l f Sc harp ing ,said in astate men the was\" very aff ected bythe s ud d end e ath of Jo hnSm ith .\"A good fri endof Germ ans ocia ld emocra cy has left us to o early .He was very clos eto a chiev ing his life 's goal of m aking theLab our Party the l arge st po litical force in Brit a in \"and w ouldbe \" cr uel ly miss ed \" in Europe , hesaid. Ho n gK ong G over nor Chris Pa t ten ,a f ormer Con serv ative Party ch air man , offer ed his cond ol enc esto theS mit h fami ly and said his form er polit cal opp on ent was a \" good and de cent man , w ide ly re spect ed. \"In France , F rench Pr esident Franc o is Mi t ter r and sent ame s s age of cond ol ence sto Smith 's wid ow El iz ab et hand to Labo ur Party gen eral - sec re tary Lar r y Whit ty .The head ofthe F rench Soci a list Party Mic hel Ro c ard to l dFr ench r adio Thursda y h e was\" sh ock ed and st un n ed\" by Smith 's death :R oc ard had spe n t Wed nesday even ing with Smith and his w ife after at tend ingthe launc h in Lond on of theLab our Party camp a ign for t heEu r opean elect ions .\"He was in great sha pe last n ight ,and this came asa sho ck to me ,\" Ro car d said.\" Jo hnSm ith wasa fer va ntE uropean .He f ought fora G reat Brit a i n that would ha\n",
      "\n",
      "\n",
      "Currently working on: run5\n",
      "Configuration:\n",
      "150 100 0.5 0.99 1.0 1.0\n"
     ]
    },
    {
     "data": {
      "application/vnd.jupyter.widget-view+json": {
       "model_id": "d2c3a2053b3547a88da3209fa8cac904",
       "version_major": 2,
       "version_minor": 0
      },
      "text/plain": [
       "Text processing:   0%|          | 0/652295 [00:00<?, ?it/s]"
      ]
     },
     "metadata": {},
     "output_type": "display_data"
    },
    {
     "data": {
      "application/vnd.jupyter.widget-view+json": {
       "model_id": "22c58cc5d3fa4eba8efed5a99445c28b",
       "version_major": 2,
       "version_minor": 0
      },
      "text/plain": [
       "Iterations:   0%|          | 0/150 [00:00<?, ?it/s]"
      ]
     },
     "metadata": {},
     "output_type": "display_data"
    },
    {
     "name": "stdout",
     "output_type": "stream",
     "text": [
      "Evaluating run: run5 in file run5.txt\n",
      "WARNING: Different sizes of test and gold files: TEST: 651796, GOLD: 651797\n",
      "P:0.178, R:0.297, F:0.223\n",
      "Tri but e spo ur ed in from around the worl dThu rsday tothe late L abour Part y leader John Smi th ,who died earlier from am ass ive he art at tack ag ed 55 .In Wash ingto n, theUS State Depar tment issu edas tatement re gret ting \"the unti mely death \" ofthe ra pi er - to n gu ed Sco tti sh b arri ster and par liam ent a rian .\"M r .Smi th , th rough out his dis t ing u ished care er in governm ent and in oppo s ition , left a prof ound impr ession onthe his tory of his part y and his coun try ,\" State Depar tment spokes man Micha elM c C ur ry said .\"S ecret ary ( of State War re n ) Chri stop here xten d s h is d eep est con do lence sto M r s .Smi tha nd tothe Smi th chi ldre n .\"I n Bonn ,the head oft heGe rman Soci al Democ ra ticPa rty , Rudo l f Sch ar p ing ,said ina s tate men the was\" very aff ected bythe s ud d en death of John Smi th .\"A good fr i endof Germa n social d emocr ac y has left us to o e arly .He was very close to achi ev inghis life 's go al of m aking the L abour Pa rty the l arge st poli tical force in Bri tain \" and would be \" cru ell y miss ed\" i nEu rope ,he said.H ongKo ng G over nor Chri s Pa t ten ,a former Con serv ative Part y c hairma n, offer ed his co nd ole nces tothe S mith fa mi ly and said his former polit cal oppo n ent was a \" good and dec ent man , wide ly re spect ed.\" In France , Frenc h Pre sident Franc o is Mi t ter rand sent a m es sage of con do lence sto S mith 's w id ow El iz a be th and to L abour Par tyg eneral - secr etary L arry Whit ty .The head ofthe Frenc h So cial istPa rty Mi ch el Ro c ard told Frenc hra dio Thursda y he was\" sh o cked and st un n ed \" by Smi th 's death : Ro c ard had sp ent Wednes day even ing with Smit hand his wif e after att end ingthe launch in Lond on ofthe L abour Par tyc ampai g n forthe European elec tions .\"He was ing reat s ha pe last nigh t , and this came as ash ock to me ,\" Ro c ard said .\" John Smit h was af erv ant European .He f ought fora G reat Bri tain that would \n",
      "\n",
      "\n",
      "Currently working on: run6\n",
      "Configuration:\n",
      "150 100 0.6 0.99 1.0 1.0\n"
     ]
    },
    {
     "data": {
      "application/vnd.jupyter.widget-view+json": {
       "model_id": "214b28014b674296b5cde29bd089693c",
       "version_major": 2,
       "version_minor": 0
      },
      "text/plain": [
       "Text processing:   0%|          | 0/652295 [00:00<?, ?it/s]"
      ]
     },
     "metadata": {},
     "output_type": "display_data"
    },
    {
     "data": {
      "application/vnd.jupyter.widget-view+json": {
       "model_id": "d817b45d854147a29090f00129230ea6",
       "version_major": 2,
       "version_minor": 0
      },
      "text/plain": [
       "Iterations:   0%|          | 0/150 [00:00<?, ?it/s]"
      ]
     },
     "metadata": {},
     "output_type": "display_data"
    },
    {
     "name": "stdout",
     "output_type": "stream",
     "text": [
      "Evaluating run: run6 in file run6.txt\n",
      "WARNING: Different sizes of test and gold files: TEST: 651796, GOLD: 651797\n",
      "P:0.183, R:0.304, F:0.229\n",
      "T ribu te s p our edin from around the world T hursday tothe late La bour Party leade r John Smith ,who died e arlier froma ma ssi ve hear t a ttack aged 5 5. In Wa shington , the US State De partment issue da state ment re g re t ting \"the un time ly death \" ofthe rap i er- ton gue d Sco t t ish barr ister and parli ament ar ian .\"M r.S mi th , through out his dist ing u ish ed ca re er ing overnment and in o pposit ion , left a prof ound imp re ssion onthe his tory of his part y and his countr y ,\" State D epartme n t spokes man Mich a el McC ur r ysaid .\" Secret ary ( of State Wa rren ) Chri stop here xtend s his de ep est c ondol ence s to M rs. Smith and tothe Smith c hildr en .\"In Bo n n ,the head ofthe German Social D emocra tic Party , Rud ol fS char p ing ,said ina st atement hewas \" very aff ected bythe su d den death of John Smith .\"A good f riend of German s ocial d emocra c y has left us to o early .He was very close to achi e ving his life 's go al of mak ing the La bour Party th el arge st poli tical for ce in Bri tain \" and wouldbe \" cr uel ly miss ed\" in Europe ,hesaid .H on g Kong G over n or Chri s Pat ten ,a former Con serv at ive Party ch air man, offer ed his cond ol ence s to the Smith famil yand said his former poli t c al opp on ent was a\" good and de cent man, wide ly re spect ed .\"In France ,F rench Pre sident Franc o is Mi tter r and sent am ess age of cond olenc est oSm ith 's w id ow El iza be than dto La bour Party genera l - s ecret ary L ar ry Whi t ty .The head ofthe F rench Social ist Party Mich el Ro c ard told F rench radi o T hursday hewas \" sho cked and st un n ed\" by Smith 's death : Ro c ard had spen t Wednes day even ing with Smith and his wif e after att end ingthe l aunch in London ofthe La bour Party c am paign for the Europe an elect ions. \" He was ing reat sh ap el a s tnigh t ,and this came as a sh ock to me ,\" Ro car d said. \" John Smith wasa fer v ant Europe an .He f ought for a Gre at Brit ain that would havea lead \n",
      "\n",
      "\n",
      "Currently working on: run7\n",
      "Configuration:\n",
      "250 100 0.4 0.99 2.5 0.9935\n"
     ]
    },
    {
     "data": {
      "application/vnd.jupyter.widget-view+json": {
       "model_id": "ddab1e78ce5343868da84f1c7db85f3a",
       "version_major": 2,
       "version_minor": 0
      },
      "text/plain": [
       "Text processing:   0%|          | 0/652295 [00:00<?, ?it/s]"
      ]
     },
     "metadata": {},
     "output_type": "display_data"
    },
    {
     "data": {
      "application/vnd.jupyter.widget-view+json": {
       "model_id": "20070fab57e2448dab592dd4fbf25c66",
       "version_major": 2,
       "version_minor": 0
      },
      "text/plain": [
       "Iterations:   0%|          | 0/250 [00:00<?, ?it/s]"
      ]
     },
     "metadata": {},
     "output_type": "display_data"
    },
    {
     "name": "stdout",
     "output_type": "stream",
     "text": [
      "Evaluating run: run7 in file run7.txt\n",
      "WARNING: Different sizes of test and gold files: TEST: 651796, GOLD: 651797\n",
      "P:0.098, R:0.216, F:0.135\n",
      "T r ib ut e sp ou red i n froma roun d the world Thur sda y t o the late Labour Party leader John Smith ,w ho d i ed ea r l ier froma mass iv e he a r t attack a g ed 5 5 .In Washi ngt on , the US StateD epart ment issue d a st ate ment re gr et t ing \"the u n ti me ly d e ath \" of ther ap ier - t o n gue d Scot t i sh bar ri ster and par lia ment ar ian .\"M r. Smith ,th rough ou th is d i st ing ui sh ed car e er ing overn ment a nd in o ppo sit ion, left ap rof ound im pre ssion onthe his tory ofhi s party an d h i s countr y ,\" StateD epar t ments pokes man Micha elMcC ur r y said .\" Secret ar y ( ofS t at e Wa r r en ) Ch ri stopher ext end s his d eep e st con d o l en ce sto M r s .S m it h andt oth e Smith c hi ld re n . \"I n Bo n n ,th e headof th e Germa n So cial D e mocrat i c Party , Rudo lf Sc ha rp i ng, saidi n a sta t emen the was\" very a ffect e d bythe s ud de n d ea t h of John Smith .\"A g ood fri e ndof Germ a n s o ci al democ r ac yh a s l e f tu sto o earl y .H e was v er y close to ac hi e ving his l i f e' sg oal of mak ing th e Labour Party the l arge st poli tical forc e in Brita in \" and wouldb e \" cru ell y mi s s ed\" in Europe ,h e said .H o ngKong Go ver no r Chris Pa t te n, a f ormer Con serv ati ve Pa rty c ha i r m a n, offer ed his c ond ole nc esto t h e Smith fa mi l y and s aid hisf or mer pol i t cal oppo n en t was a \" good and d e cent m a n , wi de l y r esp e c te d .\"I nF r ance , French Presid ent Fran co i s Mi tte r r ands ent a m e s sa g eof con do l enc e s to Smith 's wi dow El iz a b e than dto Labour Party ge n e ra l- se cretar y La rryW hi tt y .T h e headof the French Socia list Party Mic he l R oca r dt ol d French radio Thursd a y h e was\" s h o cked and s tu n n ed \"by Smith 's death :R o car d ha d s p e nt Wedne s d aye v en ing wi th Smith an dhi swi fe after a t t end in gthe l au n ch in Lo n d o n ofthe Labour Party campa ign for the Europe a nel e ction s .\"He wa s in gr e a t s ha pe la s t n ight ,\n",
      "\n",
      "\n",
      "Currently working on: run8\n",
      "Configuration:\n",
      "250 100 0.5 0.99 2.5 0.9935\n"
     ]
    },
    {
     "data": {
      "application/vnd.jupyter.widget-view+json": {
       "model_id": "d6a64356982247c390c14f970dfe98ac",
       "version_major": 2,
       "version_minor": 0
      },
      "text/plain": [
       "Text processing:   0%|          | 0/652295 [00:00<?, ?it/s]"
      ]
     },
     "metadata": {},
     "output_type": "display_data"
    },
    {
     "data": {
      "application/vnd.jupyter.widget-view+json": {
       "model_id": "e647e7e845634c5c8094997b23258665",
       "version_major": 2,
       "version_minor": 0
      },
      "text/plain": [
       "Iterations:   0%|          | 0/250 [00:00<?, ?it/s]"
      ]
     },
     "metadata": {},
     "output_type": "display_data"
    },
    {
     "name": "stdout",
     "output_type": "stream",
     "text": [
      "Evaluating run: run8 in file run8.txt\n",
      "WARNING: Different sizes of test and gold files: TEST: 651796, GOLD: 651797\n",
      "P:0.104, R:0.224, F:0.142\n",
      "T ri but es p o u redi n froma ro und the world Thursday to t he lat e Labour Party leader John Smith ,who die d earlier f r om am as sive h ear t attack a g ed 55 .In Washingto n , t he US State Depart ment issue da sta t e m ent reg re t t ing \"the un tim e ly death \" ofthe r a p i er -t on gu ed S co t t ish b arri st e r and parlia ment arian .\" M r .S m ith , through ou thi s d is ting ui shed c ar e e ri n go ve r n ment and in op po s it i o n , lef t a pr of ound im pres sio n onthe hi s t o ryof his pa rty and his c ount r y, \" State De part ment spoke sm an Micha e l M cCur ry s a i d. \" S ecreta r y( o f State Warr en ) Christ opher e xt end s his de ep e st cond o l en c es to M r s. Smith and tothe Smith child ren .\"I nB onn ,th e he ad of t he Ger m an SocialD e mocra ti c Party , Rudol fS ch a r p ing, said i na state m e nt h e was\" very a ffect edby t he sudde nd e a t h of John S m ith . \"A good f ri e n dof Ger ma n soci al democra cy ha s left u s t oo early .Hewas very cl o s e toa chiev ing his lif e 's go al of m aking the Labour Party the l a r g est po litical force in Br i tain \"and would b e\" cru e l ly m i s s ed \"in Europe ,he said.H ong Ko n g G overn or Chris Pa tte n, a former Con serv ative Party cha i r man , o ff e red h is c o ndo le nc e s tothe Smith fa m ily and s aid his former p o l i t ca l o p pon ent wasa \"g ood and d e c ent ma n , wide l y r es p e cted .\"In Franc e, French Pres id e n t Fr a n co i s Mi t t er r and s e nt am e ss ag e o f co nd o l e nc es t o Smith's wi dow E l iz a b eth and to Labour Party gen er al - s ecreta ry L ar r y Wh it t y .The h ead o f the F r en c h Socia list Party Mi ch e l R o c a r d to ld French radio Thursday he was\" sho cked a nd st un n ed \" b y Smith's death : R o c ard h a ds pe n t Wedne sday even i n g with Smith an d his w if e af te ra t ten ding the launch in London of the Labour Party camp ai g n forthe Europe a n e l e ctions .\"He was ing r ea t sh a pe last night , a nd\n",
      "\n",
      "\n",
      "Currently working on: run9\n",
      "Configuration:\n",
      "250 100 0.6 0.99 2.5 0.9935\n"
     ]
    },
    {
     "data": {
      "application/vnd.jupyter.widget-view+json": {
       "model_id": "859a1351c6ab42d4b19384bdba341b28",
       "version_major": 2,
       "version_minor": 0
      },
      "text/plain": [
       "Text processing:   0%|          | 0/652295 [00:00<?, ?it/s]"
      ]
     },
     "metadata": {},
     "output_type": "display_data"
    },
    {
     "data": {
      "application/vnd.jupyter.widget-view+json": {
       "model_id": "7ea04b209dbc40568497d7906cfae7fe",
       "version_major": 2,
       "version_minor": 0
      },
      "text/plain": [
       "Iterations:   0%|          | 0/250 [00:00<?, ?it/s]"
      ]
     },
     "metadata": {},
     "output_type": "display_data"
    },
    {
     "name": "stdout",
     "output_type": "stream",
     "text": [
      "Evaluating run: run9 in file run9.txt\n",
      "WARNING: Different sizes of test and gold files: TEST: 651796, GOLD: 651797\n",
      "P:0.112, R:0.238, F:0.152\n",
      "Tr ibu t es po u red in fro m a r ou ndthe wo rl d Thursday tothe la te Labou r Party leader John Smith ,wh o die de ar li er froma m ass iv e hear t attack ag ed 55 .I n Wa s hing t on, theUS State Depar tment i ss u ed a s tat e ment reg ret ting \"th e u n t i m e l y d e ath \" oft h e r a p i er- t o n g u edS co t t i s h bar r ister and pa r lia ment ar ia n. \"Mr .Sm ith , th rough out his d ist ing u ish e dc a re eri ng overnmen t and in op posit i o n , lef t a pro found i mp res sion on t h e history of hi s pa rty a n d h i s co un t r y,\" State Depar tment spokesman Michae lMcC u rry said .\" Secret a r y( of State War r en )C h r is top h e r exte nd sh is de e p est co nd o l enc e sto M rs . Smith an dt ot h e Smith c h i l dr e n .\"In B on n , th e h e ad o fth e Germa n Soci a l Democra t ic Par t y , Ru do l f Sc har ping ,said ina stat eme nt hew a s \" ve r y a ffect edby th es ud d end ea t ho f John Smith .\"A good f ri en do f German so ci al dem ocracy has left u s t oo early .H ewas ver y clo set oa ch i e ving h i s life 's go a lof ma k i ngthe Labou r Party the l a r g es tp oli ti c a l force in Britain \" and would be \" cru e lly mi ss ed \" in Europe ,he said. HongKo n g G over n or Ch ri s Pa t te n , a former Con serv ati ve P art ych a i r m an , off e r ed his con d ole nc e st o t h eS m i th famil yand s aid his former poli t c al o p po n e nt w a sa \" good and d e cent man ,w i d ely re sp e c ted .\"I n France , French Presiden t Franc o is M it te r r and s ent am es sa ge of cond o le nc esto Smith 's w id ow E li z a b e tha n dto Labou r Party g e ne r al -s e cr etary L ar ry Wh i t t y .The headof th e French Soci a lis t Par ty Mich e l Ro c ar dt o ld French ra di o Thursday he was \" s h o ck eda nd s t u nn ed\" by Smith 's death :R oc ard had s p ent Wedne s d ay evening with Smith an d hi s w i fe after at tend ing the l aunch in London ofthe L a bou r Party ca mp a ig n fort he Europe a n e le ction s .\"H e was in great s \n",
      "\n",
      "\n",
      "Currently working on: run10\n",
      "Configuration:\n",
      "175 150 0.35 0.99 3.5 0.989\n"
     ]
    },
    {
     "data": {
      "application/vnd.jupyter.widget-view+json": {
       "model_id": "80ab440569994116ad3f704ef0cdf9dc",
       "version_major": 2,
       "version_minor": 0
      },
      "text/plain": [
       "Text processing:   0%|          | 0/652295 [00:00<?, ?it/s]"
      ]
     },
     "metadata": {},
     "output_type": "display_data"
    },
    {
     "data": {
      "application/vnd.jupyter.widget-view+json": {
       "model_id": "a12260a7d125424cb3112a434fed690e",
       "version_major": 2,
       "version_minor": 0
      },
      "text/plain": [
       "Iterations:   0%|          | 0/175 [00:00<?, ?it/s]"
      ]
     },
     "metadata": {},
     "output_type": "display_data"
    },
    {
     "name": "stdout",
     "output_type": "stream",
     "text": [
      "Evaluating run: run10 in file run10.txt\n",
      "WARNING: Different sizes of test and gold files: TEST: 651796, GOLD: 651797\n",
      "P:0.055, R:0.140, F:0.079\n",
      "Tr i but e s pou r edin f rom around th eworld T h ursday tot he l a t e Labour Pa r ty le a d er Joh nS m i t h ,w ho di ede arli er froma mas s i v eh ea r t a t t a ck a ged 55 .In W ash ing t o n ,t he USS tate Depart m e n t is s ue d as tate me n t r egr e tt in g \"th e un t i me l y d eat h \" ofthe ra p i er -to n gued S c o t ti sh b ar ri s ter andp ar li a menta r ia n.\" Mr. S mi th, through o u th isd is ting ui s h e dca re er i ng ove r n ment a nd i n opposi tion , left ap r of ou nd i m pr e ssio no nthe hi s to r y ofhis par t yan d his countr y,\" St at e De part m ent spokes m an M i cha e lM cC ur ry s a i d.\" Secre tary ( of Stat eW arre n ) Christ o p her ext en ds h isd ee p e st cond ole n c e sto M r s . Smith and t o the Smi t h ch il d r en .\"I n B on n , t he head of the German S oc ia l Democr a ti c Party , R u dol fS ch ar ping ,said i n a s tat e men th e w as\" ve ry af fe c t e d b y th esu dde n dea t h of JohnSmith .\"A go o dfr i endof German s oc i a l de mo c ra cy h a s lef tus to o ea r ly . He was v e r y c lo s eto ac hi e vin ghi s life 's go alof m a ki ngthe Labour Part yt h el a r g est po l itic al force i n Britain \"and w ould be \" c r u e lly mis sed \"i n Europ e , he sa i d. HongK o ng G o ve r nor Chris P att e n,a forme r Co n s e r va t i ve Part y cha i rma n, o ff e r e d hi scon do len c es tothe Sm i t h f a m i l yand said hi s form e r po l i t cal o p p on ent w a sa \"go o d and d ec e n tma n , wi de ly res pec ted .\"I nF r a n ce, French P re side nt Franc o is M i t te r r and sent a me s sa geof con d ol e n c esto Smith 'sw id o w El i za be th andt o La b our Pa rty ge n e ral - s e c ret ary L ar ry Wh it t y .The h e ado fth eFrench Soci al i s t Party Mi c he l Ro car d told French r a d io Thursday h e w a s\" s h o cked and s t u nn e d \"b yS mi t h 's d eat h : R oc ar d ha d s p ent Wednes day ev e nin g wit h S m ith an dhis w if e a fter a t te nd i ng th el a u n c hin London o fthe La bour Part\n",
      "\n",
      "\n",
      "Currently working on: run11\n",
      "Configuration:\n",
      "175 150 0.5 0.99 3.5 0.989\n"
     ]
    },
    {
     "data": {
      "application/vnd.jupyter.widget-view+json": {
       "model_id": "7294dd4271374788b6ec6896e7c609f6",
       "version_major": 2,
       "version_minor": 0
      },
      "text/plain": [
       "Text processing:   0%|          | 0/652295 [00:00<?, ?it/s]"
      ]
     },
     "metadata": {},
     "output_type": "display_data"
    },
    {
     "data": {
      "application/vnd.jupyter.widget-view+json": {
       "model_id": "3a1059f4fb9e4f8cbdcff387d83a8058",
       "version_major": 2,
       "version_minor": 0
      },
      "text/plain": [
       "Iterations:   0%|          | 0/175 [00:00<?, ?it/s]"
      ]
     },
     "metadata": {},
     "output_type": "display_data"
    },
    {
     "name": "stdout",
     "output_type": "stream",
     "text": [
      "Evaluating run: run11 in file run11.txt\n",
      "WARNING: Different sizes of test and gold files: TEST: 651795, GOLD: 651797\n",
      "P:0.058, R:0.145, F:0.083\n",
      "T ri but es p our ed i n f rom a r ou n d t h e wor ld T hursday t o th e l ate Labour Party l e a d er John Smith ,w h o d i ed e ar lier from a ma s sive he ar ta t tack a g ed 55 .I n Wash ing to n ,t heUS Sta t e D epart ment i s su eda s tat e ment re g r e t t ing \" th e u nt ime l y d ea th \" of th er ap ier -to ng u ed Scot ti sh b arr ist er an dp ar l ia men ta r i an .\"M r .S mi t h, through out hi sd is t ing u ish edc ar ee r i n government andi n opp o s it ion , le f t a p rof o u n d i m pres s io n o nthe his tor yof his part y an dhis countr y , \" State D e par t ment spokesm a n Michael McCur r y s a id .\" Sec retary ( of StateW a r r e n ) Christ o pher e xt e n d s h i s d eep es t c o n d o lenc e sto M rs .S m i t ha n dto theS mi th children .\"In Bo n n,t h e head o ft h e German Social Democra t i c Pa rty , R u d o lf S c ha r pin g, said inas t at e m ent he wa s\" ver y af fe ct e d byt h esu dd e nde a t h o fJ o h n Smith .\" A go o d fri en do f Ger m a nso cia l d e m oc ra c y ha s lef t us too e ar ly . H e wa s v e ry c l o s et o a ch i ev ingh is li f e's go al o f mak ingthe Labour Party t he l a r g est po l i tic al for c e i n Britain \" andw ould b e\" cru e ll y m i s sed \" i n Europ e , he said. HongK o n g G o ver n or Ch r is Pa tte n ,a former Co n se rv ati v e Part yc h a i r man , o ffer e d his c on d ol ence sto the Smi t h f a m ily and said h i s form erp ol it ca l o p p one nt w as a \" good and d e ce n t ma n, w id ely r esp ec t e d.\" In France ,Fr en c h Presid ent Fr anc o is M i tt e r ra nd s enta m e s s age of c ond ol e nc esto Smith ' s wi d o wE liz a b et ha nd t o Labou r Party g e n e r al - s e cr e ta r y L a rr yW hi t t y .The hea dof theFrench Social i st P a r ty M ich e l Roc ard told F re n ch r adio Thursday he was \" sho cke da nd stu n ne d \"b y Sm i th 'sd e a th : R oc a rd ha ds p e n t Wednes day even ing with Smith and hi s wife a ft er at ten d i ngthe la u nc hi n London o f th e L a \n",
      "\n",
      "\n",
      "Currently working on: run12\n",
      "Configuration:\n",
      "175 150 0.65 0.99 3.5 0.989\n"
     ]
    },
    {
     "data": {
      "application/vnd.jupyter.widget-view+json": {
       "model_id": "e384c9a6b9c14f3c82c9312e1c6b4227",
       "version_major": 2,
       "version_minor": 0
      },
      "text/plain": [
       "Text processing:   0%|          | 0/652295 [00:00<?, ?it/s]"
      ]
     },
     "metadata": {},
     "output_type": "display_data"
    },
    {
     "data": {
      "application/vnd.jupyter.widget-view+json": {
       "model_id": "51220174ea044051a24f8b7a36b741f0",
       "version_major": 2,
       "version_minor": 0
      },
      "text/plain": [
       "Iterations:   0%|          | 0/175 [00:00<?, ?it/s]"
      ]
     },
     "metadata": {},
     "output_type": "display_data"
    },
    {
     "name": "stdout",
     "output_type": "stream",
     "text": [
      "Evaluating run: run12 in file run12.txt\n",
      "WARNING: Different sizes of test and gold files: TEST: 651796, GOLD: 651797\n",
      "P:0.058, R:0.145, F:0.083\n",
      "T ribu t esp ou red i nf rom around th ew o rld T hursday to t hel a te Labour Part y lea d erJo hnSmi th , wh odi ed ear lie rf ro m am a s si v e h ear ta t t ac k a g e d 55 .In Washington ,the U S S tat e Dep a rtm ent issu eda s t at e men tre g r e tt ing \"the u n ti me l y d eath \" of t her api er -t o ng u e dS c o tti s hb ar ris te ran d parli ame n ta r ian .\"M r .Sm ith ,th r ou g hout h i sd is t in g u i s h e dca r ee ring o vernment andi n opp osi ti o n , lef tap ro f ou ndi m pres sion o nt heh i st or yof h i sp a r ty an d hi s countr y,\" St a te D e p a r tment spokesm an M i c h aelMcC u r r y said.\" Secret ary ( of State War re n) C h ri stop her e x tend sh is d e ep es t c on d ole n c est oM rs .S mi th an dt ot h e Smith childr en .\"I n Bo n n, th ehea dof t h e German Soc ial Democr atic Pa r ty , Rudo lf Sch ar p ing, s a i d in a state m e n t he w as\" v e ry aff ect ed by thes ud de n de a t hof John Smith .\"A goo df ri en d o f German s o c i ald e mo cracy has lef t u s too early .He wa s ve r y c lose t o a c hi e vi n g his l if e's goa l of m ak ing t he L abo u r Part y t h e l a r ge st poli t i c a lf orc ein Brit a i n \" a n d w ouldbe \" cr u e lly miss ed\" i n Euro pe , hesaid. HongKo n gG o ve r nor Chris P at te n ,a f o rmer C on s e r v ativ e Party chairm an ,o f fer ed h i scon do l e n ce s tot h e Smith fa m ily ands aid h is forme r po lit ca l op pon en t wasa \" goo d an dde cent m a n , wide l yr e s p ect e d. \"I n France , French Presid ent F r an c oi sM i tte r rand s ent ame s s a ge o fc on d o l e nce s t oS m i t h's wid ow El izabe t ha n dt o L ab our Party g en eral -s e cr e ta ry L ar ry Wh itt y.T he headof th e Fr e nc h Soci ali s t Party M ic h el R oca r d t ol d Frenc hr ad io T hursday h ewas \"sh oc ke dand s t u n n e d \" b y Smith 's death : Ro car d h ad sp e ntW ed n e sd ay e v en ing with Smith an dhis wi f ea fter at te n d i ng t he la u n c h i n Londo n of th e Labour Party camp a i g \n",
      "\n",
      "\n"
     ]
    }
   ],
   "source": [
    "import csv\n",
    "\n",
    "with open('text_seg/config.csv', mode='r') as csv_file:\n",
    "    csv_reader = csv.DictReader(csv_file)\n",
    "    for row in csv_reader:\n",
    "        name = row[\"name\"]\n",
    "        iterations = int(row[\"iterations\"])\n",
    "        alpha = int(row[\"alpha\"])\n",
    "        p_c = float(row[\"p_c\"])\n",
    "        p_cont = float(row[\"p_cont\"])\n",
    "        T = float(row[\"T\"])\n",
    "        T_decrease = float(row[\"T_decrease\"])\n",
    "        \n",
    "        print(\"Currently working on: {}\".format(name))\n",
    "        print(\"Configuration:\")\n",
    "        print(iterations, alpha, p_c, p_cont, T, T_decrease)\n",
    "        precision, recall, f1 = fit(\n",
    "            name, \n",
    "            iterations, \n",
    "            alpha, \n",
    "            p_c, \n",
    "            p_cont, \n",
    "            T, \n",
    "            T_decrease)\n",
    "        \n",
    "        config_and_results = (name, iterations, alpha, p_c, p_cont,\n",
    "                              T, T_decrease, precision, recall, f1)\n",
    "        \n",
    "        runs.append(config_and_results)\n",
    "        \n",
    "        if best_run == None:\n",
    "            best_run = config_and_results\n",
    "        else:\n",
    "            if best_run[9] < config_and_results[9]:\n",
    "                best_run = config_and_results\n",
    "        "
   ]
  },
  {
   "cell_type": "code",
   "execution_count": 74,
   "id": "446f315d",
   "metadata": {},
   "outputs": [],
   "source": [
    "import pandas as pd\n",
    "\n",
    "df = pd.DataFrame.from_records(runs, columns =['Run name', 'Iterations', 'alpha', 'p_c', 'p_cont', \n",
    "                                              'T', 'T_decrease', 'Precision', 'Recall', 'F1'])"
   ]
  },
  {
   "cell_type": "code",
   "execution_count": 75,
   "id": "b3b89c7d",
   "metadata": {},
   "outputs": [
    {
     "data": {
      "text/html": [
       "<div>\n",
       "<style scoped>\n",
       "    .dataframe tbody tr th:only-of-type {\n",
       "        vertical-align: middle;\n",
       "    }\n",
       "\n",
       "    .dataframe tbody tr th {\n",
       "        vertical-align: top;\n",
       "    }\n",
       "\n",
       "    .dataframe thead th {\n",
       "        text-align: right;\n",
       "    }\n",
       "</style>\n",
       "<table border=\"1\" class=\"dataframe\">\n",
       "  <thead>\n",
       "    <tr style=\"text-align: right;\">\n",
       "      <th></th>\n",
       "      <th>Run name</th>\n",
       "      <th>Iterations</th>\n",
       "      <th>alpha</th>\n",
       "      <th>p_c</th>\n",
       "      <th>p_cont</th>\n",
       "      <th>T</th>\n",
       "      <th>T_decrease</th>\n",
       "      <th>Precision</th>\n",
       "      <th>Recall</th>\n",
       "      <th>F1</th>\n",
       "    </tr>\n",
       "  </thead>\n",
       "  <tbody>\n",
       "    <tr>\n",
       "      <th>0</th>\n",
       "      <td>basic</td>\n",
       "      <td>100</td>\n",
       "      <td>100</td>\n",
       "      <td>0.50</td>\n",
       "      <td>0.99</td>\n",
       "      <td>1.0</td>\n",
       "      <td>1.0000</td>\n",
       "      <td>0.1725</td>\n",
       "      <td>0.2894</td>\n",
       "      <td>0.2161</td>\n",
       "    </tr>\n",
       "    <tr>\n",
       "      <th>1</th>\n",
       "      <td>run2</td>\n",
       "      <td>100</td>\n",
       "      <td>100</td>\n",
       "      <td>0.40</td>\n",
       "      <td>0.99</td>\n",
       "      <td>1.0</td>\n",
       "      <td>1.0000</td>\n",
       "      <td>0.1727</td>\n",
       "      <td>0.2896</td>\n",
       "      <td>0.2164</td>\n",
       "    </tr>\n",
       "    <tr>\n",
       "      <th>2</th>\n",
       "      <td>run3</td>\n",
       "      <td>100</td>\n",
       "      <td>100</td>\n",
       "      <td>0.60</td>\n",
       "      <td>0.99</td>\n",
       "      <td>1.0</td>\n",
       "      <td>1.0000</td>\n",
       "      <td>0.1776</td>\n",
       "      <td>0.2951</td>\n",
       "      <td>0.2217</td>\n",
       "    </tr>\n",
       "    <tr>\n",
       "      <th>3</th>\n",
       "      <td>run4</td>\n",
       "      <td>150</td>\n",
       "      <td>100</td>\n",
       "      <td>0.40</td>\n",
       "      <td>0.99</td>\n",
       "      <td>1.0</td>\n",
       "      <td>1.0000</td>\n",
       "      <td>0.1810</td>\n",
       "      <td>0.3008</td>\n",
       "      <td>0.2260</td>\n",
       "    </tr>\n",
       "    <tr>\n",
       "      <th>4</th>\n",
       "      <td>run5</td>\n",
       "      <td>150</td>\n",
       "      <td>100</td>\n",
       "      <td>0.50</td>\n",
       "      <td>0.99</td>\n",
       "      <td>1.0</td>\n",
       "      <td>1.0000</td>\n",
       "      <td>0.1780</td>\n",
       "      <td>0.2973</td>\n",
       "      <td>0.2227</td>\n",
       "    </tr>\n",
       "    <tr>\n",
       "      <th>5</th>\n",
       "      <td>run6</td>\n",
       "      <td>150</td>\n",
       "      <td>100</td>\n",
       "      <td>0.60</td>\n",
       "      <td>0.99</td>\n",
       "      <td>1.0</td>\n",
       "      <td>1.0000</td>\n",
       "      <td>0.1830</td>\n",
       "      <td>0.3044</td>\n",
       "      <td>0.2286</td>\n",
       "    </tr>\n",
       "    <tr>\n",
       "      <th>6</th>\n",
       "      <td>run7</td>\n",
       "      <td>250</td>\n",
       "      <td>100</td>\n",
       "      <td>0.40</td>\n",
       "      <td>0.99</td>\n",
       "      <td>2.5</td>\n",
       "      <td>0.9935</td>\n",
       "      <td>0.0982</td>\n",
       "      <td>0.2161</td>\n",
       "      <td>0.1350</td>\n",
       "    </tr>\n",
       "    <tr>\n",
       "      <th>7</th>\n",
       "      <td>run8</td>\n",
       "      <td>250</td>\n",
       "      <td>100</td>\n",
       "      <td>0.50</td>\n",
       "      <td>0.99</td>\n",
       "      <td>2.5</td>\n",
       "      <td>0.9935</td>\n",
       "      <td>0.1035</td>\n",
       "      <td>0.2244</td>\n",
       "      <td>0.1417</td>\n",
       "    </tr>\n",
       "    <tr>\n",
       "      <th>8</th>\n",
       "      <td>run9</td>\n",
       "      <td>250</td>\n",
       "      <td>100</td>\n",
       "      <td>0.60</td>\n",
       "      <td>0.99</td>\n",
       "      <td>2.5</td>\n",
       "      <td>0.9935</td>\n",
       "      <td>0.1118</td>\n",
       "      <td>0.2380</td>\n",
       "      <td>0.1521</td>\n",
       "    </tr>\n",
       "    <tr>\n",
       "      <th>9</th>\n",
       "      <td>run10</td>\n",
       "      <td>175</td>\n",
       "      <td>150</td>\n",
       "      <td>0.35</td>\n",
       "      <td>0.99</td>\n",
       "      <td>3.5</td>\n",
       "      <td>0.9890</td>\n",
       "      <td>0.0551</td>\n",
       "      <td>0.1401</td>\n",
       "      <td>0.0791</td>\n",
       "    </tr>\n",
       "    <tr>\n",
       "      <th>10</th>\n",
       "      <td>run11</td>\n",
       "      <td>175</td>\n",
       "      <td>150</td>\n",
       "      <td>0.50</td>\n",
       "      <td>0.99</td>\n",
       "      <td>3.5</td>\n",
       "      <td>0.9890</td>\n",
       "      <td>0.0578</td>\n",
       "      <td>0.1453</td>\n",
       "      <td>0.0827</td>\n",
       "    </tr>\n",
       "    <tr>\n",
       "      <th>11</th>\n",
       "      <td>run12</td>\n",
       "      <td>175</td>\n",
       "      <td>150</td>\n",
       "      <td>0.65</td>\n",
       "      <td>0.99</td>\n",
       "      <td>3.5</td>\n",
       "      <td>0.9890</td>\n",
       "      <td>0.0580</td>\n",
       "      <td>0.1446</td>\n",
       "      <td>0.0828</td>\n",
       "    </tr>\n",
       "  </tbody>\n",
       "</table>\n",
       "</div>"
      ],
      "text/plain": [
       "   Run name  Iterations  alpha   p_c  p_cont    T  T_decrease  Precision  \\\n",
       "0     basic         100    100  0.50    0.99  1.0      1.0000     0.1725   \n",
       "1      run2         100    100  0.40    0.99  1.0      1.0000     0.1727   \n",
       "2      run3         100    100  0.60    0.99  1.0      1.0000     0.1776   \n",
       "3      run4         150    100  0.40    0.99  1.0      1.0000     0.1810   \n",
       "4      run5         150    100  0.50    0.99  1.0      1.0000     0.1780   \n",
       "5      run6         150    100  0.60    0.99  1.0      1.0000     0.1830   \n",
       "6      run7         250    100  0.40    0.99  2.5      0.9935     0.0982   \n",
       "7      run8         250    100  0.50    0.99  2.5      0.9935     0.1035   \n",
       "8      run9         250    100  0.60    0.99  2.5      0.9935     0.1118   \n",
       "9     run10         175    150  0.35    0.99  3.5      0.9890     0.0551   \n",
       "10    run11         175    150  0.50    0.99  3.5      0.9890     0.0578   \n",
       "11    run12         175    150  0.65    0.99  3.5      0.9890     0.0580   \n",
       "\n",
       "    Recall      F1  \n",
       "0   0.2894  0.2161  \n",
       "1   0.2896  0.2164  \n",
       "2   0.2951  0.2217  \n",
       "3   0.3008  0.2260  \n",
       "4   0.2973  0.2227  \n",
       "5   0.3044  0.2286  \n",
       "6   0.2161  0.1350  \n",
       "7   0.2244  0.1417  \n",
       "8   0.2380  0.1521  \n",
       "9   0.1401  0.0791  \n",
       "10  0.1453  0.0827  \n",
       "11  0.1446  0.0828  "
      ]
     },
     "execution_count": 75,
     "metadata": {},
     "output_type": "execute_result"
    }
   ],
   "source": [
    "df"
   ]
  },
  {
   "cell_type": "markdown",
   "id": "05b079d4",
   "metadata": {},
   "source": [
    "## Best run:"
   ]
  },
  {
   "cell_type": "code",
   "execution_count": 76,
   "id": "39065050",
   "metadata": {},
   "outputs": [
    {
     "name": "stdout",
     "output_type": "stream",
     "text": [
      "('run6', 150, 100, 0.6, 0.99, 1.0, 1.0, 0.183, 0.3044, 0.2286)\n"
     ]
    }
   ],
   "source": [
    "print(best_run)"
   ]
  },
  {
   "cell_type": "markdown",
   "id": "c52bde0b",
   "metadata": {},
   "source": [
    "## Task 5\n",
    "\n",
    "Instead of Chinese Restaurant Process, try to employ the Pitman-Yor Process. Does it improve your results?"
   ]
  },
  {
   "cell_type": "code",
   "execution_count": 77,
   "id": "32131bcf",
   "metadata": {},
   "outputs": [],
   "source": [
    "def PitmanYorTextSegmentation(text, text_size, iterations, alpha, p_c, p_cont, T = 1, T_decrease = 1):\n",
    "    # randomly initialize text segmentation\n",
    "    s = np.random.randint(low=0, high=2, size=text_size)\n",
    "    \n",
    "    # create the initial segmentation\n",
    "    words = segmentation(text, text_size, s)\n",
    "    count = get_word_counts(words)\n",
    "    \n",
    "    # total number of words\n",
    "    t = sum(count.values())\n",
    "    \n",
    "    processing_progress_bar = tqdm(range(1, text_size - 1), desc=\"Text processing\")\n",
    "    \n",
    "    for iteration in tqdm(range(iterations), desc=\"Iterations\"):\n",
    "        processing_progress_bar.reset()\n",
    "        for i in np.random.permutation(range(0, text_size - 1)):\n",
    "            \n",
    "            prev_word = get_prev_word(text, s, i)\n",
    "            next_word = get_next_word(text, s, i)\n",
    "            \n",
    "            joined = prev_word + next_word\n",
    "            if s[i] == 0:\n",
    "                if count[joined] == 0:\n",
    "                    print(joined + \" not found\")\n",
    "                    print(count)\n",
    "                count[joined] = max(0, count[joined] - 1)\n",
    "                t -= 1\n",
    "            else:\n",
    "                count[prev_word] = max(0, count[prev_word] - 1)\n",
    "                count[next_word] = max(0, count[next_word] - 1)\n",
    "                t -= 2\n",
    "            \n",
    "            p_0 = (alpha * p0(joined, p_c) + count[joined]) / (alpha + t)\n",
    "            p_1 = (alpha * p0(prev_word, p_c) + count[prev_word]) / (alpha + t)\n",
    "            p_1 *= (alpha * p0(next_word, p_c) + count[next_word]) / (alpha + t + 1)\n",
    "            p_1 *= p_cont\n",
    "            \n",
    "            # Annealing\n",
    "            p_0 = p_0 ** (1/T)\n",
    "            p_1 = p_1 ** (1/T)\n",
    "            \n",
    "            # Normalization\n",
    "            suma = p_0 + p_1\n",
    "            p_0 /= suma\n",
    "            p_1 /= suma\n",
    "            \n",
    "            s[i] = np.random.choice([0, 1], p=[p_0, p_1])\n",
    "            \n",
    "            if s[i] == 0:\n",
    "                count[joined] += 1\n",
    "                t += 1\n",
    "            else:\n",
    "                count[prev_word] += 1\n",
    "                count[next_word] += 1\n",
    "                t += 2\n",
    "\n",
    "            processing_progress_bar.update(1)\n",
    "        \n",
    "    words_updated = segmentation(text, text_size, s)\n",
    "    final_output = \" \".join(words_updated)\n",
    "    return final_output"
   ]
  }
 ],
 "metadata": {
  "kernelspec": {
   "display_name": "Python 3 (ipykernel)",
   "language": "python",
   "name": "python3"
  },
  "language_info": {
   "codemirror_mode": {
    "name": "ipython",
    "version": 3
   },
   "file_extension": ".py",
   "mimetype": "text/x-python",
   "name": "python",
   "nbconvert_exporter": "python",
   "pygments_lexer": "ipython3",
   "version": "3.9.7"
  }
 },
 "nbformat": 4,
 "nbformat_minor": 5
}
