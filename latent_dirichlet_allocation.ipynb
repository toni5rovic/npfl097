{
 "cells": [
  {
   "cell_type": "code",
   "execution_count": 1,
   "id": "ad156f9e",
   "metadata": {
    "scrolled": true
   },
   "outputs": [],
   "source": [
    "import matplotlib.pyplot as plt\n",
    "import numpy as np\n",
    "\n",
    "%matplotlib inline\n",
    "import warnings\n",
    "warnings.filterwarnings(\"ignore\")"
   ]
  },
  {
   "cell_type": "code",
   "execution_count": 2,
   "id": "d9181a44",
   "metadata": {
    "scrolled": true
   },
   "outputs": [],
   "source": [
    "# imports \n",
    "from data.lda_data import DataLoader\n",
    "from lda.lda_model import LDAModel"
   ]
  },
  {
   "cell_type": "code",
   "execution_count": 3,
   "id": "d7344e5f",
   "metadata": {
    "scrolled": true
   },
   "outputs": [],
   "source": [
    "loader = DataLoader()"
   ]
  },
  {
   "cell_type": "code",
   "execution_count": 4,
   "id": "7674373f",
   "metadata": {
    "scrolled": true
   },
   "outputs": [
    {
     "name": "stdout",
     "output_type": "stream",
     "text": [
      "Number of loaded documents:  11314\n"
     ]
    }
   ],
   "source": [
    "print(\"Number of loaded documents: \", len(loader.data))"
   ]
  },
  {
   "cell_type": "markdown",
   "id": "1511d8d0",
   "metadata": {},
   "source": [
    "Let's take a look at a random document:"
   ]
  },
  {
   "cell_type": "code",
   "execution_count": 5,
   "id": "b1bbd4cf",
   "metadata": {
    "scrolled": true
   },
   "outputs": [
    {
     "name": "stdout",
     "output_type": "stream",
     "text": [
      "Example document:\n",
      "From: lerxst@wam.umd.edu (where's my thing)\n",
      "Subject: WHAT car is this!?\n",
      "Nntp-Posting-Host: rac3.wam.umd.edu\n",
      "Organization: University of Maryland, College Park\n",
      "Lines: 15\n",
      "\n",
      " I was wondering if anyone out there could enlighten me on this car I saw\n",
      "the other day. It was a 2-door sports car, looked to be from the late 60s/\n",
      "early 70s. It was called a Bricklin. The doors were really small. In addition,\n",
      "the front bumper was separate from the rest of the body. This is \n",
      "all I know. If anyone can tellme a model name, engine specs, years\n",
      "of production, where this car is made, history, or whatever info you\n",
      "have on this funky looking car, please e-mail.\n",
      "\n",
      "Thanks,\n",
      "- IL\n",
      "   ---- brought to you by your neighborhood Lerxst ----\n",
      "\n",
      "\n",
      "\n",
      "\n",
      "\n"
     ]
    }
   ],
   "source": [
    "print(\"Example document:\")\n",
    "print(loader.data[0])"
   ]
  },
  {
   "cell_type": "markdown",
   "id": "58313505",
   "metadata": {},
   "source": [
    "Preprocessing:"
   ]
  },
  {
   "cell_type": "code",
   "execution_count": 6,
   "id": "960f54e0",
   "metadata": {
    "scrolled": true
   },
   "outputs": [
    {
     "name": "stdout",
     "output_type": "stream",
     "text": [
      "Loading existing preprocessed documents...\n"
     ]
    }
   ],
   "source": [
    "loader.preprocess()"
   ]
  },
  {
   "cell_type": "markdown",
   "id": "62e18581",
   "metadata": {},
   "source": [
    "Let's take a look at the same document, but now after lemmatization and stemming:"
   ]
  },
  {
   "cell_type": "code",
   "execution_count": 7,
   "id": "afc7e3b7",
   "metadata": {
    "scrolled": true
   },
   "outputs": [
    {
     "name": "stdout",
     "output_type": "stream",
     "text": [
      "['lerxst', 'thing', 'subject', 'nntp', 'post', 'host', 'organ', 'univers', 'maryland', 'colleg', 'park', 'line', 'wonder', 'enlighten', 'door', 'sport', 'look', 'late', 'earli', 'call', 'bricklin', 'door', 'small', 'addit', 'bumper', 'separ', 'rest', 'bodi', 'know', 'tellm', 'model', 'engin', 'spec', 'year', 'product', 'histori', 'info', 'funki', 'look', 'mail', 'thank', 'bring', 'neighborhood', 'lerxst']\n"
     ]
    }
   ],
   "source": [
    "print(loader.processed_docs[0])"
   ]
  },
  {
   "cell_type": "markdown",
   "id": "a1366cdf",
   "metadata": {},
   "source": [
    "We will now build the dictionary"
   ]
  },
  {
   "cell_type": "code",
   "execution_count": 8,
   "id": "2582bcba",
   "metadata": {
    "scrolled": true
   },
   "outputs": [],
   "source": [
    "dictionary = loader.build_dictionary()"
   ]
  },
  {
   "cell_type": "markdown",
   "id": "217cfc46",
   "metadata": {},
   "source": [
    "The size of the dictionary:"
   ]
  },
  {
   "cell_type": "code",
   "execution_count": 9,
   "id": "96942523",
   "metadata": {
    "scrolled": true
   },
   "outputs": [
    {
     "data": {
      "text/plain": [
       "6591"
      ]
     },
     "execution_count": 9,
     "metadata": {},
     "output_type": "execute_result"
    }
   ],
   "source": [
    "len(dictionary)"
   ]
  },
  {
   "cell_type": "markdown",
   "id": "2a961bb5",
   "metadata": {},
   "source": [
    "Let's take a look at the dictionary:"
   ]
  },
  {
   "cell_type": "code",
   "execution_count": 10,
   "id": "b5b5a4fc",
   "metadata": {
    "scrolled": true
   },
   "outputs": [
    {
     "data": {
      "text/plain": [
       "'hollywood'"
      ]
     },
     "execution_count": 10,
     "metadata": {},
     "output_type": "execute_result"
    }
   ],
   "source": [
    "dictionary[6590]"
   ]
  },
  {
   "cell_type": "code",
   "execution_count": 11,
   "id": "b0942ab8",
   "metadata": {
    "scrolled": true
   },
   "outputs": [],
   "source": [
    "docs, maxdoclen = loader.filter_docs(dictionary)"
   ]
  },
  {
   "cell_type": "code",
   "execution_count": 12,
   "id": "92bc5085",
   "metadata": {
    "scrolled": true
   },
   "outputs": [
    {
     "name": "stdout",
     "output_type": "stream",
     "text": [
      "Example document - filtered:\n",
      "[29, 20, 11, 30, 17, 5, 21, 31, 9, 6, 27, 15, 14, 7, 4, 6, 25, 0, 3, 24, 23, 1, 13, 18, 8, 26, 32, 22, 10, 12, 15, 16, 28, 2, 19]\n",
      "Maximum document length: 4621\n"
     ]
    }
   ],
   "source": [
    "print(\"Example document - filtered:\")\n",
    "print(docs[0])\n",
    "\n",
    "print(\"Maximum document length:\", maxdoclen)"
   ]
  },
  {
   "cell_type": "code",
   "execution_count": 13,
   "id": "b2014132",
   "metadata": {
    "scrolled": true
   },
   "outputs": [
    {
     "data": {
      "text/plain": [
       "['nntp',\n",
       " 'host',\n",
       " 'hewlett',\n",
       " 'packard',\n",
       " 'fort',\n",
       " 'collin',\n",
       " 'newsread',\n",
       " 'version',\n",
       " 'regard',\n",
       " 'email',\n",
       " 'hewlett',\n",
       " 'packard',\n",
       " 'east',\n",
       " 'harmoni',\n",
       " 'fort',\n",
       " 'collin']"
      ]
     },
     "execution_count": 13,
     "metadata": {},
     "output_type": "execute_result"
    }
   ],
   "source": [
    "[dictionary[w] for w in docs[12]]"
   ]
  },
  {
   "cell_type": "code",
   "execution_count": 14,
   "id": "8b48e191",
   "metadata": {},
   "outputs": [],
   "source": [
    "def plot_topics_distributions(iterations, doc_idx, model):\n",
    "    iterations_data = [model.iteration_data[iteration - 1] for iteration in iterations]\n",
    "    \n",
    "    c_d_in_iterations = [it[2] for it in iterations_data]\n",
    "    \n",
    "    topics_distributions = [c_d[doc_idx, :] for c_d in c_d_in_iterations]\n",
    "    \n",
    "    count = 1\n",
    "    fig = plt.figure(figsize=(14,8))\n",
    "    for i in range(0, 2):\n",
    "        d = len(iterations)\n",
    "        half = int(d / 2)\n",
    "        for j in range(half):\n",
    "            topics_dist = topics_distributions[count - 1]\n",
    "            iteration = iterations[count - 1]\n",
    "\n",
    "            subplot_code = int(\"2{}{}\".format(half, count))\n",
    "            ax = fig.add_subplot(subplot_code)\n",
    "\n",
    "            ax.bar(range(model.topics_count), topics_dist)\n",
    "\n",
    "            ax.set_title(\"Topic distribution - Doc: {}, Iteration: {}\".format(doc_idx, iteration))\n",
    "            ax.set_ylabel(\"Word count per topic\")\n",
    "            ax.set_xlabel(\"Topics\")\n",
    "\n",
    "            count += 1\n",
    "\n",
    "    plt.show()"
   ]
  },
  {
   "cell_type": "code",
   "execution_count": 15,
   "id": "48075e47",
   "metadata": {
    "scrolled": false
   },
   "outputs": [
    {
     "data": {
      "image/png": "[encoded data removed]",
      "text/plain": [
       "<Figure size 864x432 with 2 Axes>"
      ]
     },
     "metadata": {
      "needs_background": "light"
     },
     "output_type": "display_data"
    },
    {
     "name": "stdout",
     "output_type": "stream",
     "text": [
      "[2.4462981  2.5899909  2.6935961  0.439811   3.4008627  2.5482616\n",
      " 1.9615382  2.2478793  3.310792   0.57975364 2.5939248  3.961083\n",
      " 3.077875   4.038469   1.9999012  3.806382   3.6311083  1.0145326\n",
      " 2.7324398  0.5154639 ]\n",
      "Iteration: 2, time: 245.41706085205078 seconds\n"
     ]
    }
   ],
   "source": [
    "model = LDAModel(seed=1234)\n",
    "model.fit(docs, dictionary, topics_num=20, iterations=2, alpha=0.1, gamma=0.1, max_doc_len=maxdoclen)"
   ]
  },
  {
   "cell_type": "code",
   "execution_count": 18,
   "id": "fc2c3c47",
   "metadata": {
    "scrolled": false
   },
   "outputs": [
    {
     "data": {
      "image/png": "[encoded data removed]",
      "text/plain": [
       "<Figure size 1008x576 with 2 Axes>"
      ]
     },
     "metadata": {
      "needs_background": "light"
     },
     "output_type": "display_data"
    }
   ],
   "source": [
    "plot_topics_distributions([1, 2], 12, model)"
   ]
  },
  {
   "cell_type": "markdown",
   "id": "e5b7ed09",
   "metadata": {},
   "source": [
    "## Task 4.\n",
    "\n",
    "**Show histograms of the most frequent 20 words of three chosen topics after\n",
    "50 Gibbs iterations.**"
   ]
  },
  {
   "cell_type": "code",
   "execution_count": 19,
   "id": "7e6ce8bb",
   "metadata": {},
   "outputs": [],
   "source": [
    "def plot_top_words(iteration_data, dictionary, topics, top_words=20):\n",
    "        last_iteration = iteration_data[-1]\n",
    "        c_w = last_iteration[1]\n",
    "\n",
    "        for topic in topics:\n",
    "            plt.figure(figsize=(6,3))\n",
    "            plt.xticks(rotation=90)\n",
    "            words_in_topic = c_w[:, topic] # Counts of words in topic k\n",
    "            word_tokenIDs = np.argsort(words_in_topic)[-top_words:]\n",
    "\n",
    "            words_to_plot=[dictionary[tokenID] for tokenID in word_tokenIDs]\n",
    "            freqs = np.sort(words_in_topic)[-top_words:]\n",
    "            plt.bar(words_to_plot, freqs)\n",
    "            print()"
   ]
  },
  {
   "cell_type": "code",
   "execution_count": 20,
   "id": "ab3b9bcd",
   "metadata": {},
   "outputs": [
    {
     "name": "stdout",
     "output_type": "stream",
     "text": [
      "\n",
      "\n",
      "\n",
      "\n"
     ]
    },
    {
     "data": {
      "image/png": "[encoded data removed]",
      "text/plain": [
       "<Figure size 432x216 with 1 Axes>"
      ]
     },
     "metadata": {
      "needs_background": "light"
     },
     "output_type": "display_data"
    },
    {
     "data": {
      "image/png": "[encoded data removed]",
      "text/plain": [
       "<Figure size 432x216 with 1 Axes>"
      ]
     },
     "metadata": {
      "needs_background": "light"
     },
     "output_type": "display_data"
    },
    {
     "data": {
      "image/png": "[encoded data removed]",
      "text/plain": [
       "<Figure size 432x216 with 1 Axes>"
      ]
     },
     "metadata": {
      "needs_background": "light"
     },
     "output_type": "display_data"
    },
    {
     "data": {
      "image/png": "[encoded data removed]",
      "text/plain": [
       "<Figure size 432x216 with 1 Axes>"
      ]
     },
     "metadata": {
      "needs_background": "light"
     },
     "output_type": "display_data"
    }
   ],
   "source": [
    "plot_top_words(model.iteration_data, dictionary, topics=[1, 3, 8, 10])"
   ]
  },
  {
   "cell_type": "markdown",
   "id": "36bce6fb",
   "metadata": {},
   "source": [
    "## Task 5. \n",
    "**Preprocess the test data in the same way as the training data. For filtration, use the dictionary from the training data. Compute the per-word perplexity of the test data for the state after 50 Gibbs iterations. Compare it to a simple bayesian model not using any hidden variables and using only one distribution over words β for all documents with symmetric Dirichlet prior with and concentration parameter γ = 0.1.**"
   ]
  },
  {
   "cell_type": "code",
   "execution_count": 21,
   "id": "afa8855f",
   "metadata": {
    "scrolled": true
   },
   "outputs": [
    {
     "name": "stdout",
     "output_type": "stream",
     "text": [
      "Loading existing preprocessed documents...\n"
     ]
    }
   ],
   "source": [
    "test_loader = DataLoader(split='test')\n",
    "test_loader.load_data()\n",
    "test_loader.preprocess()"
   ]
  },
  {
   "cell_type": "code",
   "execution_count": 22,
   "id": "23cb73a7",
   "metadata": {},
   "outputs": [
    {
     "name": "stdout",
     "output_type": "stream",
     "text": [
      "From: egreen@east.sun.com (Ed Green - Pixel Cruncher)\n",
      "Subject: Re: A Point for Helmet Law is a Point for\n",
      "Organization: Sun Microsystems, RTP, NC\n",
      "Lines: 20\n",
      "Distribution: world\n",
      "Reply-To: egreen@east.sun.com\n",
      "NNTP-Posting-Host: laser.east.sun.com\n",
      "\n",
      "In article i8n@agate.berkeley.edu, manish@uclink.berkeley.edu (Manish Vij) writes:\n",
      ">\n",
      ">>Motorcycles are not allowed on th 17 mile drive at pebble Beach.\n",
      ">\n",
      ">what?\n",
      ">\n",
      ">are there posted signs?\n",
      ">\n",
      ">what do they cite you for?\n",
      "\n",
      "They don't.  It's a closed access road, you pay to get in (if you don't\n",
      "have a resident sticker), and they simply don't open the gates if\n",
      "you're on a bike.\n",
      "\n",
      "---\n",
      "Ed Green, former Ninjaite |I was drinking last night with a biker,\n",
      "  Ed.Green@East.Sun.COM   |and I showed him a picture of you.  I said,\n",
      "DoD #0111  (919)460-8302  |\"Go on, get to know her, you'll like her!\"\n",
      " (The Grateful Dead) -->  |It seemed like the least I could do...\n",
      "\n",
      "\n"
     ]
    }
   ],
   "source": [
    "print(test_loader.data[42])"
   ]
  },
  {
   "cell_type": "code",
   "execution_count": 23,
   "id": "01f001cd",
   "metadata": {},
   "outputs": [],
   "source": [
    "test_docs, test_maxdoclen = test_loader.filter_docs(dictionary)"
   ]
  },
  {
   "cell_type": "code",
   "execution_count": 24,
   "id": "359badd5",
   "metadata": {},
   "outputs": [
    {
     "name": "stdout",
     "output_type": "stream",
     "text": [
      "Example test document - filtered:\n",
      "[3127, 577, 165, 2065, 3659, 177, 2740, 177, 2922, 93, 188, 334, 3127, 577, 20, 11, 3192, 577, 36, 4473, 1625, 4293, 1625, 2792, 233, 935, 359, 4177, 303, 3711, 866, 78, 1375, 961, 3140, 562, 1592, 3235, 451, 165, 4261, 1867, 3123, 165, 577, 389, 2724, 299, 13, 115, 3953, 2292, 115]\n",
      "Maximum test document length: 3954\n"
     ]
    }
   ],
   "source": [
    "print(\"Example test document - filtered:\")\n",
    "print(test_docs[42])\n",
    "\n",
    "print(\"Maximum test document length:\", test_maxdoclen)"
   ]
  },
  {
   "cell_type": "code",
   "execution_count": 25,
   "id": "98ebe314",
   "metadata": {
    "scrolled": true
   },
   "outputs": [
    {
     "data": {
      "text/plain": [
       "['egreen',\n",
       " 'east',\n",
       " 'green',\n",
       " 'pixel',\n",
       " 'cruncher',\n",
       " 'point',\n",
       " 'helmet',\n",
       " 'point',\n",
       " 'microsystem',\n",
       " 'distribut',\n",
       " 'world',\n",
       " 'repli',\n",
       " 'egreen',\n",
       " 'east',\n",
       " 'nntp',\n",
       " 'host',\n",
       " 'laser',\n",
       " 'east',\n",
       " 'articl',\n",
       " 'agat',\n",
       " 'berkeley',\n",
       " 'uclink',\n",
       " 'berkeley',\n",
       " 'motorcycl',\n",
       " 'allow',\n",
       " 'mile',\n",
       " 'drive',\n",
       " 'beach',\n",
       " 'sign',\n",
       " 'cite',\n",
       " 'close',\n",
       " 'access',\n",
       " 'road',\n",
       " 'resid',\n",
       " 'sticker',\n",
       " 'simpli',\n",
       " 'open',\n",
       " 'gate',\n",
       " 'bike',\n",
       " 'green',\n",
       " 'drink',\n",
       " 'night',\n",
       " 'biker',\n",
       " 'green',\n",
       " 'east',\n",
       " 'show',\n",
       " 'pictur',\n",
       " 'say',\n",
       " 'know',\n",
       " 'like',\n",
       " 'grate',\n",
       " 'dead',\n",
       " 'like']"
      ]
     },
     "execution_count": 25,
     "metadata": {},
     "output_type": "execute_result"
    }
   ],
   "source": [
    "[dictionary[w] for w in test_docs[42]]"
   ]
  },
  {
   "cell_type": "code",
   "execution_count": 31,
   "id": "cb6e34f0",
   "metadata": {},
   "outputs": [
    {
     "ename": "IndexError",
     "evalue": "index 35 is out of bounds for axis 0 with size 35",
     "output_type": "error",
     "traceback": [
      "\u001b[1;31m---------------------------------------------------------------------------\u001b[0m",
      "\u001b[1;31mIndexError\u001b[0m                                Traceback (most recent call last)",
      "\u001b[1;32m~\\AppData\\Local\\Temp/ipykernel_14708/516899134.py\u001b[0m in \u001b[0;36m<module>\u001b[1;34m\u001b[0m\n\u001b[0;32m      2\u001b[0m \u001b[1;32mfor\u001b[0m \u001b[0md\u001b[0m\u001b[1;33m,\u001b[0m \u001b[0mdocument\u001b[0m \u001b[1;32min\u001b[0m \u001b[0menumerate\u001b[0m\u001b[1;33m(\u001b[0m\u001b[0mtest_docs\u001b[0m\u001b[1;33m)\u001b[0m\u001b[1;33m:\u001b[0m\u001b[1;33m\u001b[0m\u001b[1;33m\u001b[0m\u001b[0m\n\u001b[0;32m      3\u001b[0m     \u001b[1;32mfor\u001b[0m \u001b[0mn\u001b[0m\u001b[1;33m,\u001b[0m \u001b[0mm\u001b[0m \u001b[1;32min\u001b[0m \u001b[0menumerate\u001b[0m\u001b[1;33m(\u001b[0m\u001b[0mdocument\u001b[0m\u001b[1;33m)\u001b[0m\u001b[1;33m:\u001b[0m\u001b[1;33m\u001b[0m\u001b[1;33m\u001b[0m\u001b[0m\n\u001b[1;32m----> 4\u001b[1;33m         \u001b[0mk\u001b[0m \u001b[1;33m=\u001b[0m \u001b[0mmodel\u001b[0m\u001b[1;33m.\u001b[0m\u001b[0mz_nd\u001b[0m\u001b[1;33m[\u001b[0m\u001b[0md\u001b[0m\u001b[1;33m]\u001b[0m\u001b[1;33m[\u001b[0m\u001b[0mn\u001b[0m\u001b[1;33m]\u001b[0m\u001b[1;33m\u001b[0m\u001b[1;33m\u001b[0m\u001b[0m\n\u001b[0m\u001b[0;32m      5\u001b[0m         \u001b[0mc_d_test\u001b[0m\u001b[1;33m[\u001b[0m\u001b[0md\u001b[0m\u001b[1;33m,\u001b[0m \u001b[0mk\u001b[0m\u001b[1;33m]\u001b[0m \u001b[1;33m+=\u001b[0m \u001b[1;36m1\u001b[0m\u001b[1;33m\u001b[0m\u001b[1;33m\u001b[0m\u001b[0m\n",
      "\u001b[1;31mIndexError\u001b[0m: index 35 is out of bounds for axis 0 with size 35"
     ]
    }
   ],
   "source": [
    "c_d_test = np.zeros((len(test_docs), model.topics_count), dtype=np.int)\n",
    "for d, document in enumerate(test_docs):\n",
    "    for n, m in enumerate(document):\n",
    "        k = model.z_nd[d][n]\n",
    "        c_d_test[d, k] += 1"
   ]
  },
  {
   "cell_type": "code",
   "execution_count": 33,
   "id": "27e141d3",
   "metadata": {},
   "outputs": [
    {
     "ename": "NameError",
     "evalue": "name 'w' is not defined",
     "output_type": "error",
     "traceback": [
      "\u001b[1;31m---------------------------------------------------------------------------\u001b[0m",
      "\u001b[1;31mNameError\u001b[0m                                 Traceback (most recent call last)",
      "\u001b[1;32m~\\AppData\\Local\\Temp/ipykernel_14708/2256213195.py\u001b[0m in \u001b[0;36m<module>\u001b[1;34m\u001b[0m\n\u001b[0;32m     13\u001b[0m     \u001b[0mentropy\u001b[0m \u001b[1;33m=\u001b[0m \u001b[1;33m-\u001b[0m\u001b[1;33m(\u001b[0m\u001b[0mentropy\u001b[0m\u001b[1;33m)\u001b[0m \u001b[1;33m/\u001b[0m \u001b[0mlen\u001b[0m\u001b[1;33m(\u001b[0m\u001b[0mtest_docs\u001b[0m\u001b[1;33m)\u001b[0m\u001b[1;33m\u001b[0m\u001b[1;33m\u001b[0m\u001b[0m\n\u001b[0;32m     14\u001b[0m \u001b[1;33m\u001b[0m\u001b[0m\n\u001b[1;32m---> 15\u001b[1;33m \u001b[0mpp\u001b[0m \u001b[1;33m=\u001b[0m \u001b[1;36m2\u001b[0m \u001b[1;33m**\u001b[0m \u001b[0mget_entropy_test_data\u001b[0m\u001b[1;33m(\u001b[0m\u001b[0mmodel\u001b[0m\u001b[1;33m,\u001b[0m \u001b[0mc_d_test\u001b[0m\u001b[1;33m)\u001b[0m\u001b[1;33m\u001b[0m\u001b[1;33m\u001b[0m\u001b[0m\n\u001b[0m",
      "\u001b[1;32m~\\AppData\\Local\\Temp/ipykernel_14708/2256213195.py\u001b[0m in \u001b[0;36mget_entropy_test_data\u001b[1;34m(model, c_d_test)\u001b[0m\n\u001b[0;32m      7\u001b[0m             \u001b[0mp\u001b[0m \u001b[1;33m=\u001b[0m \u001b[1;33m[\u001b[0m\u001b[1;33m]\u001b[0m\u001b[1;33m\u001b[0m\u001b[1;33m\u001b[0m\u001b[0m\n\u001b[0;32m      8\u001b[0m             \u001b[1;32mfor\u001b[0m \u001b[0mk\u001b[0m \u001b[1;32min\u001b[0m \u001b[0mrange\u001b[0m\u001b[1;33m(\u001b[0m\u001b[0mmodel\u001b[0m\u001b[1;33m.\u001b[0m\u001b[0mtopics_count\u001b[0m\u001b[1;33m)\u001b[0m\u001b[1;33m:\u001b[0m\u001b[1;33m\u001b[0m\u001b[1;33m\u001b[0m\u001b[0m\n\u001b[1;32m----> 9\u001b[1;33m                 \u001b[0mleft\u001b[0m \u001b[1;33m=\u001b[0m \u001b[1;33m(\u001b[0m\u001b[0mgamma\u001b[0m \u001b[1;33m+\u001b[0m \u001b[0mmodel\u001b[0m\u001b[1;33m.\u001b[0m\u001b[0mc_w\u001b[0m\u001b[1;33m[\u001b[0m\u001b[0mk\u001b[0m\u001b[1;33m,\u001b[0m \u001b[0mw\u001b[0m\u001b[1;33m]\u001b[0m\u001b[1;33m)\u001b[0m \u001b[1;33m/\u001b[0m \u001b[1;33m(\u001b[0m\u001b[0mlen\u001b[0m\u001b[1;33m(\u001b[0m\u001b[0mdictionary\u001b[0m\u001b[1;33m)\u001b[0m \u001b[1;33m*\u001b[0m \u001b[0mgamma\u001b[0m \u001b[1;33m+\u001b[0m \u001b[0mnp\u001b[0m\u001b[1;33m.\u001b[0m\u001b[0msum\u001b[0m\u001b[1;33m(\u001b[0m\u001b[0mmodel\u001b[0m\u001b[1;33m.\u001b[0m\u001b[0mc_w\u001b[0m\u001b[1;33m[\u001b[0m\u001b[0mk\u001b[0m\u001b[1;33m,\u001b[0m \u001b[1;33m:\u001b[0m\u001b[1;33m]\u001b[0m\u001b[1;33m)\u001b[0m\u001b[1;33m)\u001b[0m\u001b[1;33m\u001b[0m\u001b[1;33m\u001b[0m\u001b[0m\n\u001b[0m\u001b[0;32m     10\u001b[0m                 \u001b[0mright\u001b[0m \u001b[1;33m=\u001b[0m \u001b[1;33m(\u001b[0m\u001b[0malpha\u001b[0m \u001b[1;33m+\u001b[0m \u001b[0mc_d_test\u001b[0m\u001b[1;33m[\u001b[0m\u001b[0mk\u001b[0m\u001b[1;33m,\u001b[0m \u001b[0md\u001b[0m\u001b[1;33m]\u001b[0m\u001b[1;33m)\u001b[0m \u001b[1;33m/\u001b[0m \u001b[1;33m(\u001b[0m\u001b[0mmodel\u001b[0m\u001b[1;33m.\u001b[0m\u001b[0mtopics_count\u001b[0m \u001b[1;33m*\u001b[0m \u001b[0malpha\u001b[0m \u001b[1;33m+\u001b[0m \u001b[0mlen\u001b[0m\u001b[1;33m(\u001b[0m\u001b[0mtest_docs\u001b[0m\u001b[1;33m)\u001b[0m\u001b[1;33m)\u001b[0m\u001b[1;33m\u001b[0m\u001b[1;33m\u001b[0m\u001b[0m\n\u001b[0;32m     11\u001b[0m                 \u001b[0mp\u001b[0m\u001b[1;33m.\u001b[0m\u001b[0mappend\u001b[0m\u001b[1;33m(\u001b[0m\u001b[0mleft\u001b[0m \u001b[1;33m*\u001b[0m \u001b[0mright\u001b[0m\u001b[1;33m)\u001b[0m\u001b[1;33m\u001b[0m\u001b[1;33m\u001b[0m\u001b[0m\n",
      "\u001b[1;31mNameError\u001b[0m: name 'w' is not defined"
     ]
    }
   ],
   "source": [
    "def get_entropy_test_data(model, c_d_test):\n",
    "    entropy = 0\n",
    "    gamma = 0.1\n",
    "    alpha = 0.1\n",
    "    for d, document in enumerate(test_docs):\n",
    "        for n, m in enumerate(document):\n",
    "            p = []\n",
    "            for k in range(model.topics_count):\n",
    "                left = (gamma + model.c_w[k, w]) / (len(dictionary) * gamma + np.sum(model.c_w[k, :]))\n",
    "                right = (alpha + c_d_test[k, d]) / (model.topics_count * alpha + len(test_docs))\n",
    "                p.append(left * right)\n",
    "            entropy += np.log2(sum(p))\n",
    "    entropy = -(entropy) / len(test_docs)\n",
    "\n",
    "pp = 2 ** get_entropy_test_data(model, c_d_test)"
   ]
  },
  {
   "cell_type": "code",
   "execution_count": null,
   "id": "a742a4af",
   "metadata": {},
   "outputs": [],
   "source": [
    "pp"
   ]
  }
 ],
 "metadata": {
  "kernelspec": {
   "display_name": "Python 3 (ipykernel)",
   "language": "python",
   "name": "python3"
  },
  "language_info": {
   "codemirror_mode": {
    "name": "ipython",
    "version": 3
   },
   "file_extension": ".py",
   "mimetype": "text/x-python",
   "name": "python",
   "nbconvert_exporter": "python",
   "pygments_lexer": "ipython3",
   "version": "3.9.2"
  }
 },
 "nbformat": 4,
 "nbformat_minor": 5
}
